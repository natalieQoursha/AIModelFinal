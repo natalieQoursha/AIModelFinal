{
 "cells": [
  {
   "cell_type": "code",
   "execution_count": 1,
   "id": "b830353f",
   "metadata": {},
   "outputs": [],
   "source": [
    "import tensorflow as tf\n",
    "from tensorflow import keras"
   ]
  },
  {
   "cell_type": "code",
   "execution_count": 2,
   "id": "375966dc",
   "metadata": {},
   "outputs": [],
   "source": [
    "import tensorflow as tf\n",
    "\n",
    "# Define the custom loss function\n",
    "def root_mean_squared_error(y_true, y_pred):\n",
    "    return tf.sqrt(tf.reduce_mean(tf.square(y_pred - y_true)))\n",
    "\n",
    "# Load the model with custom loss function\n",
    "model = tf.keras.models.load_model('my_litecoinLSTM_model.h5', custom_objects={'root_mean_squared_error': root_mean_squared_error})\n"
   ]
  },
  {
   "cell_type": "code",
   "execution_count": 3,
   "id": "5654e7dc",
   "metadata": {},
   "outputs": [
    {
     "name": "stdout",
     "output_type": "stream",
     "text": [
      "Model: \"sequential_2\"\n",
      "_________________________________________________________________\n",
      " Layer (type)                Output Shape              Param #   \n",
      "=================================================================\n",
      " lstm_4 (LSTM)               (None, 1, 480)            935040    \n",
      "                                                                 \n",
      " dropout_2 (Dropout)         (None, 1, 480)            0         \n",
      "                                                                 \n",
      " lstm_5 (LSTM)               (None, 64)                139520    \n",
      "                                                                 \n",
      " dense_2 (Dense)             (None, 1)                 65        \n",
      "                                                                 \n",
      "=================================================================\n",
      "Total params: 1,074,625\n",
      "Trainable params: 1,074,625\n",
      "Non-trainable params: 0\n",
      "_________________________________________________________________\n"
     ]
    }
   ],
   "source": [
    "model.summary()\n"
   ]
  },
  {
   "cell_type": "markdown",
   "id": "c75da491",
   "metadata": {},
   "source": [
    "# GET LITECOIN DATA "
   ]
  },
  {
   "cell_type": "code",
   "execution_count": 4,
   "id": "00257cc7",
   "metadata": {},
   "outputs": [
    {
     "name": "stdout",
     "output_type": "stream",
     "text": [
      "        date   Open   High    Low  Close      Volume    Close Time  \\\n",
      "0 2023-05-29  91.46  92.18  90.12  90.86  484868.109  1.685405e+12   \n",
      "\n",
      "   Quote Asset Volume  Number of Trades  TB Base Volume  \\\n",
      "0        4.420683e+07          103965.0       243362.13   \n",
      "\n",
      "   Taker Buy Quote Asset Volume  Ignore  \n",
      "0                  2.219324e+07     0.0  \n"
     ]
    }
   ],
   "source": [
    "import pandas as pd\n",
    "import requests\n",
    "\n",
    "import datetime\n",
    "\n",
    "import datetime\n",
    "\n",
    "# Get the current date\n",
    "current_date = datetime.datetime.now()\n",
    "\n",
    "# Calculate the previous day\n",
    "previous_day = current_date - datetime.timedelta(days=1)\n",
    "previous_day_start = datetime.datetime(previous_day.year, previous_day.month, previous_day.day, 0, 0, 0)\n",
    "previous_day_end = previous_day_start + datetime.timedelta(days=1)\n",
    "\n",
    "# Convert the timestamps to milliseconds\n",
    "start_time = int(previous_day_start.timestamp()) * 1000\n",
    "end_time = int(previous_day_end.timestamp()) * 1000\n",
    "\n",
    "# Construct the URL with the modified timestamp\n",
    "url = f\"https://api.binance.com/api/v3/klines?symbol=LTCUSDT&interval=1d&startTime={start_time}&endTime={end_time}&limit=1\"\n",
    "\n",
    "\n",
    "\n",
    "# Send GET request to the API\n",
    "response = requests.get(url)\n",
    "\n",
    "# Parse the response JSON data\n",
    "data = response.json()\n",
    "\n",
    "# Define column names\n",
    "columns = ['date', 'Open', 'High', 'Low', 'Close', 'Volume', 'Close Time', 'Quote Asset Volume', 'Number of Trades', 'TB Base Volume', 'Taker Buy Quote Asset Volume', 'Ignore']\n",
    "\n",
    "# Create DataFrame\n",
    "ltc = pd.DataFrame(data, columns=columns)\n",
    "\n",
    "# Convert data types\n",
    "ltc['date'] = pd.to_datetime(ltc['date'], unit='ms')\n",
    "ltc[['Open', 'High', 'Low', 'Close', 'Volume', 'Close Time', 'Quote Asset Volume', 'Number of Trades', 'TB Base Volume', 'Taker Buy Quote Asset Volume', 'Ignore']] = ltc[['Open', 'High', 'Low', 'Close', 'Volume', 'Close Time', 'Quote Asset Volume', 'Number of Trades', 'TB Base Volume', 'Taker Buy Quote Asset Volume', 'Ignore']].astype(float)\n",
    "\n",
    "# Print DataFrame\n",
    "print(ltc)\n"
   ]
  },
  {
   "cell_type": "code",
   "execution_count": 5,
   "id": "d0c2e3d7",
   "metadata": {},
   "outputs": [],
   "source": [
    "ltc.drop(['Quote Asset Volume','Taker Buy Quote Asset Volume','Close Time','Ignore','Volume','Number of Trades',\n",
    "          'TB Base Volume'\n",
    "         ],axis=1,inplace=True)\n"
   ]
  },
  {
   "cell_type": "code",
   "execution_count": 6,
   "id": "9c5496a2",
   "metadata": {
    "scrolled": true
   },
   "outputs": [
    {
     "name": "stdout",
     "output_type": "stream",
     "text": [
      "<class 'pandas.core.frame.DataFrame'>\n",
      "RangeIndex: 1 entries, 0 to 0\n",
      "Data columns (total 5 columns):\n",
      " #   Column  Non-Null Count  Dtype         \n",
      "---  ------  --------------  -----         \n",
      " 0   date    1 non-null      datetime64[ns]\n",
      " 1   Open    1 non-null      float64       \n",
      " 2   High    1 non-null      float64       \n",
      " 3   Low     1 non-null      float64       \n",
      " 4   Close   1 non-null      float64       \n",
      "dtypes: datetime64[ns](1), float64(4)\n",
      "memory usage: 168.0 bytes\n"
     ]
    }
   ],
   "source": [
    "ltc.info()"
   ]
  },
  {
   "cell_type": "code",
   "execution_count": 7,
   "id": "a7e5a6f3",
   "metadata": {},
   "outputs": [],
   "source": [
    "ltc['close_nextday']=90"
   ]
  },
  {
   "cell_type": "code",
   "execution_count": 8,
   "id": "5442364c",
   "metadata": {},
   "outputs": [],
   "source": [
    "# import requests\n",
    "\n",
    "# url = 'https://min-api.cryptocompare.com/data/blockchain/histo/day'\n",
    "# params = {'fsym': 'LTC', 'limit': 2, 'api_key': 'e6a9a2c327eba343b8ba318f86017574f6d9bdb9d5d13ae643531bda926f5e32'}\n",
    "\n",
    "# response = requests.get(url, params=params)\n",
    "\n",
    "# if response.status_code != 200:\n",
    "#     print(f'Request failed with status code {response.status_code}.')\n",
    "# else:\n",
    "#     data = response.json()['Data']\n",
    "#     print(data)\n"
   ]
  },
  {
   "cell_type": "code",
   "execution_count": 9,
   "id": "dc3e0c4f",
   "metadata": {},
   "outputs": [
    {
     "name": "stdout",
     "output_type": "stream",
     "text": [
      "{'blocks': 2482807, 'transactions': 161851363, 'outputs': 512570790, 'circulation': 7303313323347135, 'blocks_24h': 586, 'transactions_24h': 242056, 'difficulty': 25122123.350546, 'volume_24h': 4404267082775050, 'mempool_transactions': 163, 'mempool_size': 152968, 'mempool_tps': 1.4833333333333334, 'mempool_total_fee_usd': 0.9373, 'best_block_height': 2482806, 'best_block_hash': '4d69bc42d5e36e70501fca8f0590b098496f43a5ce0e9da2d3dcc8a96fbf3c08', 'best_block_time': '2023-05-30 08:15:07', 'blockchain_size': 103069379744, 'average_transaction_fee_24h': 5884, 'inflation_24h': 732500000000, 'median_transaction_fee_24h': 492, 'cdd_24h': 21985158.238884695, 'mempool_outputs': 1271, 'largest_transaction_24h': {'hash': 'e63b547b863bb59ba331b718a8bbc80ca8c6cb0499514cc8c29a7fe492968d1b', 'value_usd': 14449485}, 'nodes': 1006, 'hashrate_24h': '734004739395166', 'inflation_usd_24h': 668919, 'average_transaction_fee_usd_24h': 0.00537339762572793, 'median_transaction_fee_usd_24h': 0.0004492944, 'market_price_usd': 91.32, 'market_price_btc': 0.0032916411347006, 'market_price_usd_change_24h_percentage': -0.14646, 'market_cap_usd': 6673306185, 'market_dominance_percentage': 0.55, 'next_retarget_time_estimate': '2023-05-31 22:10:02', 'next_difficulty_estimate': 24525919, 'countdowns': [], 'suggested_transaction_fee_per_byte_sat': 1, 'hodling_addresses': 8569066}\n"
     ]
    }
   ],
   "source": [
    "import requests\n",
    "import datetime\n",
    "\n",
    "# Calculate the previous day\n",
    "previous_day = datetime.date.today() - datetime.timedelta(days=1)\n",
    "\n",
    "# Format the previous day in the required format (YYYY-MM-DD)\n",
    "previous_day_str = previous_day.strftime('%Y-%m-%d')\n",
    "\n",
    "# Construct the URL with the modified date\n",
    "url = f'https://api.blockchair.com/litecoin/stats?date={previous_day_str}'\n",
    "\n",
    "# Send the request and check the response\n",
    "response = requests.get(url)\n",
    "\n",
    "if response.status_code != 200:\n",
    "    print(f'Request failed with status code {response.status_code}.')\n",
    "else:\n",
    "    data = response.json()\n",
    "    blockchain_data = data['data']\n",
    "    print(blockchain_data)\n"
   ]
  },
  {
   "cell_type": "code",
   "execution_count": 10,
   "id": "117ded48",
   "metadata": {},
   "outputs": [],
   "source": [
    "from datetime import datetime, timedelta\n",
    "\n",
    "hashrate = blockchain_data['hashrate_24h']\n",
    "difficulty = blockchain_data['difficulty']\n",
    "previous_day = datetime.today().date() - timedelta(days=1)\n",
    "\n",
    "# Create dataframe\n",
    "blockchain_ltc = pd.DataFrame({\n",
    "    'hashrate': [hashrate],\n",
    "    'difficulty': [difficulty],\n",
    "\n",
    "    'date':pd.to_datetime(previous_day)    \n",
    "})"
   ]
  },
  {
   "cell_type": "code",
   "execution_count": 11,
   "id": "a60520aa",
   "metadata": {},
   "outputs": [
    {
     "data": {
      "text/html": [
       "<div>\n",
       "<style scoped>\n",
       "    .dataframe tbody tr th:only-of-type {\n",
       "        vertical-align: middle;\n",
       "    }\n",
       "\n",
       "    .dataframe tbody tr th {\n",
       "        vertical-align: top;\n",
       "    }\n",
       "\n",
       "    .dataframe thead th {\n",
       "        text-align: right;\n",
       "    }\n",
       "</style>\n",
       "<table border=\"1\" class=\"dataframe\">\n",
       "  <thead>\n",
       "    <tr style=\"text-align: right;\">\n",
       "      <th></th>\n",
       "      <th>hashrate</th>\n",
       "      <th>difficulty</th>\n",
       "      <th>date</th>\n",
       "    </tr>\n",
       "  </thead>\n",
       "  <tbody>\n",
       "    <tr>\n",
       "      <th>0</th>\n",
       "      <td>734004739395166</td>\n",
       "      <td>2.512212e+07</td>\n",
       "      <td>2023-05-29</td>\n",
       "    </tr>\n",
       "  </tbody>\n",
       "</table>\n",
       "</div>"
      ],
      "text/plain": [
       "          hashrate    difficulty       date\n",
       "0  734004739395166  2.512212e+07 2023-05-29"
      ]
     },
     "execution_count": 11,
     "metadata": {},
     "output_type": "execute_result"
    }
   ],
   "source": [
    "blockchain_ltc"
   ]
  },
  {
   "cell_type": "code",
   "execution_count": 12,
   "id": "e13b428d",
   "metadata": {},
   "outputs": [
    {
     "name": "stdout",
     "output_type": "stream",
     "text": [
      "          hashrate    difficulty       date   Open   High    Low  Close  \\\n",
      "0  734004739395166  2.512212e+07 2023-05-29  91.46  92.18  90.12  90.86   \n",
      "\n",
      "   close_nextday  \n",
      "0             90  \n"
     ]
    }
   ],
   "source": [
    "ltc_df = pd.merge(blockchain_ltc,ltc , on=['date'])\n",
    "print(ltc_df)"
   ]
  },
  {
   "cell_type": "code",
   "execution_count": 13,
   "id": "b9894efe",
   "metadata": {},
   "outputs": [
    {
     "data": {
      "text/html": [
       "<div>\n",
       "<style scoped>\n",
       "    .dataframe tbody tr th:only-of-type {\n",
       "        vertical-align: middle;\n",
       "    }\n",
       "\n",
       "    .dataframe tbody tr th {\n",
       "        vertical-align: top;\n",
       "    }\n",
       "\n",
       "    .dataframe thead th {\n",
       "        text-align: right;\n",
       "    }\n",
       "</style>\n",
       "<table border=\"1\" class=\"dataframe\">\n",
       "  <thead>\n",
       "    <tr style=\"text-align: right;\">\n",
       "      <th></th>\n",
       "      <th>hashrate</th>\n",
       "      <th>difficulty</th>\n",
       "      <th>Open</th>\n",
       "      <th>High</th>\n",
       "      <th>Low</th>\n",
       "      <th>Close</th>\n",
       "      <th>close_nextday</th>\n",
       "    </tr>\n",
       "    <tr>\n",
       "      <th>date</th>\n",
       "      <th></th>\n",
       "      <th></th>\n",
       "      <th></th>\n",
       "      <th></th>\n",
       "      <th></th>\n",
       "      <th></th>\n",
       "      <th></th>\n",
       "    </tr>\n",
       "  </thead>\n",
       "  <tbody>\n",
       "    <tr>\n",
       "      <th>2023-05-29</th>\n",
       "      <td>734004739395166</td>\n",
       "      <td>2.512212e+07</td>\n",
       "      <td>91.46</td>\n",
       "      <td>92.18</td>\n",
       "      <td>90.12</td>\n",
       "      <td>90.86</td>\n",
       "      <td>90</td>\n",
       "    </tr>\n",
       "  </tbody>\n",
       "</table>\n",
       "</div>"
      ],
      "text/plain": [
       "                   hashrate    difficulty   Open   High    Low  Close  \\\n",
       "date                                                                    \n",
       "2023-05-29  734004739395166  2.512212e+07  91.46  92.18  90.12  90.86   \n",
       "\n",
       "            close_nextday  \n",
       "date                       \n",
       "2023-05-29             90  "
      ]
     },
     "execution_count": 13,
     "metadata": {},
     "output_type": "execute_result"
    }
   ],
   "source": [
    "ltc_df.set_index('date', inplace=True)\n",
    "ltc_df.head()"
   ]
  },
  {
   "cell_type": "code",
   "execution_count": 14,
   "id": "1e39a27a",
   "metadata": {},
   "outputs": [
    {
     "name": "stdout",
     "output_type": "stream",
     "text": [
      "<class 'pandas.core.frame.DataFrame'>\n",
      "DatetimeIndex: 1 entries, 2023-05-29 to 2023-05-29\n",
      "Data columns (total 7 columns):\n",
      " #   Column         Non-Null Count  Dtype  \n",
      "---  ------         --------------  -----  \n",
      " 0   hashrate       1 non-null      object \n",
      " 1   difficulty     1 non-null      float64\n",
      " 2   Open           1 non-null      float64\n",
      " 3   High           1 non-null      float64\n",
      " 4   Low            1 non-null      float64\n",
      " 5   Close          1 non-null      float64\n",
      " 6   close_nextday  1 non-null      int64  \n",
      "dtypes: float64(5), int64(1), object(1)\n",
      "memory usage: 64.0+ bytes\n"
     ]
    }
   ],
   "source": [
    "ltc_df.info()"
   ]
  },
  {
   "cell_type": "code",
   "execution_count": 15,
   "id": "a3778316",
   "metadata": {},
   "outputs": [],
   "source": [
    "import pickle\n",
    "\n",
    "# Load the scaler object from the file\n",
    "with open('LTCscaler.pkl', 'rb') as file:\n",
    "    scaler = pickle.load(file)\n",
    "\n",
    "# Use the scaler object as needed\n",
    "ltc_scaled = scaler.transform(ltc_df)"
   ]
  },
  {
   "cell_type": "code",
   "execution_count": 16,
   "id": "b9f6c006",
   "metadata": {},
   "outputs": [
    {
     "data": {
      "text/plain": [
       "array([[9.23174629e+11, 9.81469634e-01, 1.87546270e-01, 1.75557437e-01,\n",
       "        2.10115284e-01, 1.85841193e-01, 1.83483220e-01]])"
      ]
     },
     "execution_count": 16,
     "metadata": {},
     "output_type": "execute_result"
    }
   ],
   "source": [
    "ltc_scaled"
   ]
  },
  {
   "cell_type": "code",
   "execution_count": 23,
   "id": "2aabf1b7",
   "metadata": {},
   "outputs": [],
   "source": [
    "ltc_scaled=ltc_scaled[:,:6]"
   ]
  },
  {
   "cell_type": "code",
   "execution_count": 24,
   "id": "ef104981",
   "metadata": {},
   "outputs": [
    {
     "data": {
      "text/plain": [
       "array([[9.23174629e+11, 9.81469634e-01, 1.87546270e-01, 1.75557437e-01,\n",
       "        2.10115284e-01, 1.85841193e-01]])"
      ]
     },
     "execution_count": 24,
     "metadata": {},
     "output_type": "execute_result"
    }
   ],
   "source": [
    "ltc_scaled"
   ]
  },
  {
   "cell_type": "code",
   "execution_count": 25,
   "id": "21f8414d",
   "metadata": {
    "scrolled": true
   },
   "outputs": [],
   "source": [
    "input_data_reshaped = tf.expand_dims(ltc_scaled, axis=1)"
   ]
  },
  {
   "cell_type": "code",
   "execution_count": 26,
   "id": "05de07a1",
   "metadata": {},
   "outputs": [
    {
     "data": {
      "text/plain": [
       "TensorShape([1, 1, 6])"
      ]
     },
     "execution_count": 26,
     "metadata": {},
     "output_type": "execute_result"
    }
   ],
   "source": [
    "input_data_reshaped.shape"
   ]
  },
  {
   "cell_type": "code",
   "execution_count": 27,
   "id": "3522ad34",
   "metadata": {},
   "outputs": [
    {
     "data": {
      "text/plain": [
       "<tf.Tensor: shape=(1, 1, 6), dtype=float64, numpy=\n",
       "array([[[9.23174629e+11, 9.81469634e-01, 1.87546270e-01, 1.75557437e-01,\n",
       "         2.10115284e-01, 1.85841193e-01]]])>"
      ]
     },
     "execution_count": 27,
     "metadata": {},
     "output_type": "execute_result"
    }
   ],
   "source": [
    "input_data_reshaped"
   ]
  },
  {
   "cell_type": "code",
   "execution_count": 28,
   "id": "51f47b44",
   "metadata": {
    "scrolled": true
   },
   "outputs": [
    {
     "name": "stdout",
     "output_type": "stream",
     "text": [
      "1/1 [==============================] - 1s 1s/step\n"
     ]
    }
   ],
   "source": [
    "predictions=model.predict (input_data_reshaped)"
   ]
  },
  {
   "cell_type": "code",
   "execution_count": 29,
   "id": "ba4d2391",
   "metadata": {},
   "outputs": [
    {
     "data": {
      "text/plain": [
       "0.62035865"
      ]
     },
     "execution_count": 29,
     "metadata": {},
     "output_type": "execute_result"
    }
   ],
   "source": [
    "predictions[-1][0]"
   ]
  },
  {
   "cell_type": "code",
   "execution_count": 31,
   "id": "8460a55d",
   "metadata": {},
   "outputs": [
    {
     "name": "stdout",
     "output_type": "stream",
     "text": [
      "23.08\n"
     ]
    }
   ],
   "source": [
    "import pickle\n",
    "\n",
    "# Load the scaler object from the file\n",
    "with open('litecoin_closemin.pkl', 'rb') as file:\n",
    "    close_nextdaymin = pickle.load(file)\n",
    "\n",
    "print(close_nextdaymin)"
   ]
  },
  {
   "cell_type": "code",
   "execution_count": 32,
   "id": "3639652f",
   "metadata": {},
   "outputs": [
    {
     "name": "stdout",
     "output_type": "stream",
     "text": [
      "387.8\n"
     ]
    }
   ],
   "source": [
    "import pickle\n",
    "\n",
    "# Load the scaler object from the file\n",
    "with open('litecoin_closemax.pkl', 'rb') as file:\n",
    "    close_nextdaymax = pickle.load(file)\n",
    "\n",
    "print(close_nextdaymax)"
   ]
  },
  {
   "cell_type": "code",
   "execution_count": 33,
   "id": "452ee2d6",
   "metadata": {},
   "outputs": [
    {
     "data": {
      "text/plain": [
       "249.3372053384781"
      ]
     },
     "metadata": {},
     "output_type": "display_data"
    }
   ],
   "source": [
    "# denormalized_value = (normalized_value * (max_value - min_value)) + min_value\n",
    "denormalized_value =  (abs(predictions[-1][0] ) * (close_nextdaymax - close_nextdaymin)+ close_nextdaymin)\n",
    "display(denormalized_value)"
   ]
  },
  {
   "cell_type": "code",
   "execution_count": null,
   "id": "ab514cc0",
   "metadata": {},
   "outputs": [],
   "source": [
    "# !pip install nbconvert\n"
   ]
  },
  {
   "cell_type": "code",
   "execution_count": null,
   "id": "a5106626",
   "metadata": {},
   "outputs": [],
   "source": [
    "# from nbconvert import PythonExporter\n",
    "\n",
    "# def convert_notebook_to_script(notebook_path, script_path):\n",
    "#     exporter = PythonExporter()\n",
    "#     exporter.exclude_input_prompt = True  # Exclude input prompts in the script\n",
    "#     output, _ = exporter.from_file(notebook_path)\n",
    "#     with open(script_path, 'w', encoding='utf-8') as f:\n",
    "#         f.write(output)\n",
    "\n",
    "# convert_notebook_to_script('PredictNewData.ipynb', 'PredictNewData.py')\n"
   ]
  },
  {
   "cell_type": "code",
   "execution_count": null,
   "id": "0a8138ed",
   "metadata": {},
   "outputs": [],
   "source": [
    "# import pandas as pd\n",
    "# import requests\n",
    "\n",
    "# # Example data\n",
    "# url = 'https://api.binance.com/api/v3/klines?symbol=BTCUSDT&interval=1d&limit=1'\n",
    "\n",
    "# # Send GET request to the API\n",
    "# response = requests.get(url)\n",
    "\n",
    "# # Parse the response JSON data\n",
    "# data = response.json()\n",
    "\n",
    "# # Define column names\n",
    "# columns = ['Open Time', 'Open', 'High', 'Low', 'Close', 'Volume', 'Close Time', 'Quote Asset Volume', 'Number of Trades', 'TB Base Volume', 'Taker Buy Quote Asset Volume', 'Ignore']\n",
    "\n",
    "# # Create DataFrame\n",
    "# btc = pd.DataFrame(data, columns=columns)\n",
    "\n",
    "# # Convert data types\n",
    "# btc['Open Time'] = pd.to_datetime(btc['Open Time'], unit='ms')\n",
    "# btc[['Open', 'High', 'Low', 'Close', 'Volume', 'Close Time', 'Quote Asset Volume', 'Number of Trades', 'TB Base Volume', 'Taker Buy Quote Asset Volume', 'Ignore']] = df[['Open', 'High', 'Low', 'Close', 'Volume', 'Close Time', 'Quote Asset Volume', 'Number of Trades', 'Taker Buy Base Asset Volume', 'Taker Buy Quote Asset Volume', 'Ignore']].astype(float)\n",
    "\n",
    "# # Print DataFrame\n",
    "# print(btc)\n"
   ]
  },
  {
   "cell_type": "code",
   "execution_count": null,
   "id": "b1295a33",
   "metadata": {},
   "outputs": [],
   "source": [
    "# btc.drop(['Quote Asset Volume','Taker Buy Quote Asset Volume','Close Time','Ignore'],axis=1,inplace=True)\n"
   ]
  },
  {
   "cell_type": "code",
   "execution_count": null,
   "id": "eaaf6613",
   "metadata": {},
   "outputs": [],
   "source": [
    "# btc"
   ]
  },
  {
   "cell_type": "code",
   "execution_count": null,
   "id": "8479bf93",
   "metadata": {},
   "outputs": [],
   "source": [
    "# ###this is the one that works \n",
    "# import warnings\n",
    "# from datetime import datetime\n",
    "\n",
    "# # Ignore FutureWarning messages\n",
    "# warnings.filterwarnings(\"ignore\", category=FutureWarning)\n",
    "# url = 'https://api.blockchain.info/charts'\n",
    "# params = {\n",
    "#     'timespan': '1days',\n",
    "#     'format': 'json'\n",
    "# }\n",
    "\n",
    "# # Define the data to retrieve\n",
    "# data_types = [ 'market-price', 'difficulty' , 'total-bitcoins',\n",
    "#               'blocks-size', 'miners-revenue',\"market-cap\"]\n",
    "# #data_types=features\n",
    "\n",
    "# # Initialize a dictionary to store the dataframes\n",
    "# dfs = {}\n",
    "\n",
    "# # Loop over the data types and retrieve the data\n",
    "# for data_type in data_types:\n",
    "#     # Set the API endpoint for the current data type\n",
    "#     current_url = f\"{url}/{data_type}\"\n",
    "    \n",
    "#     # Make the API request\n",
    "#     response = requests.get(current_url, params=params)\n",
    "    \n",
    "#     # Extract the data from the response\n",
    "#     data = response.json()['values']\n",
    "    \n",
    "#     # Create an empty dataframe for the current data type\n",
    "#     df = pd.DataFrame(columns=['date', data_type])\n",
    "    \n",
    "#     # Process the data\n",
    "#     for entry in data:\n",
    "#         # Convert the timestamp to a datetime object\n",
    "#         date = datetime.fromtimestamp(entry['x']).date()\n",
    "        \n",
    "#         # Add a new row to the DataFrame\n",
    "#         df = df.append({'date': date, data_type: entry['y']}, ignore_index=True)\n",
    "    \n",
    "#     # Store the DataFrame in the dictionary\n",
    "#     dfs[data_type] = df\n",
    "\n",
    "# # Print the DataFrames\n",
    "# for data_type, df in dfs.items():\n",
    "#     print(f\"{data_type}:\")\n",
    "#     print(df)\n",
    "#     print(\"\\n\")\n",
    "\n"
   ]
  },
  {
   "cell_type": "code",
   "execution_count": null,
   "id": "6b6450ad",
   "metadata": {},
   "outputs": [],
   "source": [
    "# type(dfs)"
   ]
  },
  {
   "cell_type": "code",
   "execution_count": null,
   "id": "4fc11c6d",
   "metadata": {},
   "outputs": [],
   "source": [
    "# #list of dataframes; each with the blockchain data\n",
    "# frames=[]\n",
    "# for key in dfs.keys():\n",
    "#     name=key.replace('-','')\n",
    "#     name=dfs[key]\n",
    "#     frames.append(name)\n",
    "# frames[4]"
   ]
  },
  {
   "cell_type": "code",
   "execution_count": null,
   "id": "dab7d35b",
   "metadata": {},
   "outputs": [],
   "source": [
    "# #MERGE ALL RESULTING DATAFRAMES \n",
    "# merged_df=frames[0].merge(frames[1],on='date')\n",
    "# print(merged_df)\n",
    "# for i in range(1,len(frames)-1):\n",
    "#     merged_df=merged_df.merge(frames[i+1],on='date')\n",
    "#     print(merged_df)"
   ]
  },
  {
   "cell_type": "code",
   "execution_count": null,
   "id": "38f6e541",
   "metadata": {},
   "outputs": [],
   "source": [
    "# t1=btc.set_index('Open Time')\n",
    "# t1.head()\n",
    "# type(btc['Open Time'][0])"
   ]
  },
  {
   "cell_type": "code",
   "execution_count": null,
   "id": "58d42898",
   "metadata": {},
   "outputs": [],
   "source": [
    "# #you must merge based on the date; normal index will lead to false results because of how you took a sample of the data\n",
    "# t2=temp_df.set_index('date')\n",
    "# t2.head()\n",
    "# type(temp_df['date'])"
   ]
  },
  {
   "cell_type": "code",
   "execution_count": null,
   "id": "7ee3c21f",
   "metadata": {},
   "outputs": [],
   "source": [
    "# mergedData_df=t1.merge(t2,on='date')"
   ]
  }
 ],
 "metadata": {
  "kernelspec": {
   "display_name": "Python 3 (ipykernel)",
   "language": "python",
   "name": "python3"
  },
  "language_info": {
   "codemirror_mode": {
    "name": "ipython",
    "version": 3
   },
   "file_extension": ".py",
   "mimetype": "text/x-python",
   "name": "python",
   "nbconvert_exporter": "python",
   "pygments_lexer": "ipython3",
   "version": "3.10.3"
  }
 },
 "nbformat": 4,
 "nbformat_minor": 5
}
