{
 "cells": [
  {
   "cell_type": "code",
   "execution_count": 1,
   "id": "4166afe0",
   "metadata": {},
   "outputs": [
    {
     "ename": "ModuleNotFoundError",
     "evalue": "No module named 'regex'",
     "output_type": "error",
     "traceback": [
      "\u001b[0;31m---------------------------------------------------------------------------\u001b[0m",
      "\u001b[0;31mModuleNotFoundError\u001b[0m                       Traceback (most recent call last)",
      "Cell \u001b[0;32mIn[1], line 5\u001b[0m\n\u001b[1;32m      3\u001b[0m \u001b[38;5;28;01mimport\u001b[39;00m \u001b[38;5;21;01mdatetime\u001b[39;00m\n\u001b[1;32m      4\u001b[0m \u001b[38;5;28;01mimport\u001b[39;00m \u001b[38;5;21;01mconfigparser\u001b[39;00m\n\u001b[0;32m----> 5\u001b[0m \u001b[38;5;28;01mfrom\u001b[39;00m \u001b[38;5;21;01mbinance\u001b[39;00m \u001b[38;5;28;01mimport\u001b[39;00m Client\n\u001b[1;32m      6\u001b[0m \u001b[38;5;28;01mimport\u001b[39;00m \u001b[38;5;21;01mpandas\u001b[39;00m \u001b[38;5;28;01mas\u001b[39;00m \u001b[38;5;21;01mpd\u001b[39;00m\n\u001b[1;32m      7\u001b[0m \u001b[38;5;28;01mimport\u001b[39;00m \u001b[38;5;21;01mnumpy\u001b[39;00m \u001b[38;5;28;01mas\u001b[39;00m \u001b[38;5;21;01mnp\u001b[39;00m\n",
      "File \u001b[0;32m~/anaconda3/lib/python3.10/site-packages/binance/__init__.py:9\u001b[0m\n\u001b[1;32m      1\u001b[0m \u001b[38;5;124;03m\"\"\"An unofficial Python wrapper for the Binance exchange API v3\u001b[39;00m\n\u001b[1;32m      2\u001b[0m \n\u001b[1;32m      3\u001b[0m \u001b[38;5;124;03m.. moduleauthor:: Sam McHardy\u001b[39;00m\n\u001b[1;32m      4\u001b[0m \n\u001b[1;32m      5\u001b[0m \u001b[38;5;124;03m\"\"\"\u001b[39;00m\n\u001b[1;32m      7\u001b[0m __version__ \u001b[38;5;241m=\u001b[39m \u001b[38;5;124m\"\u001b[39m\u001b[38;5;124m1.0.17\u001b[39m\u001b[38;5;124m\"\u001b[39m\n\u001b[0;32m----> 9\u001b[0m \u001b[38;5;28;01mfrom\u001b[39;00m \u001b[38;5;21;01mbinance\u001b[39;00m\u001b[38;5;21;01m.\u001b[39;00m\u001b[38;5;21;01mclient\u001b[39;00m \u001b[38;5;28;01mimport\u001b[39;00m Client, AsyncClient  \u001b[38;5;66;03m# noqa\u001b[39;00m\n\u001b[1;32m     10\u001b[0m \u001b[38;5;28;01mfrom\u001b[39;00m \u001b[38;5;21;01mbinance\u001b[39;00m\u001b[38;5;21;01m.\u001b[39;00m\u001b[38;5;21;01mdepthcache\u001b[39;00m \u001b[38;5;28;01mimport\u001b[39;00m DepthCacheManager, OptionsDepthCacheManager, ThreadedDepthCacheManager  \u001b[38;5;66;03m# noqa\u001b[39;00m\n\u001b[1;32m     11\u001b[0m \u001b[38;5;28;01mfrom\u001b[39;00m \u001b[38;5;21;01mbinance\u001b[39;00m\u001b[38;5;21;01m.\u001b[39;00m\u001b[38;5;21;01mstreams\u001b[39;00m \u001b[38;5;28;01mimport\u001b[39;00m BinanceSocketManager, ThreadedWebsocketManager  \u001b[38;5;66;03m# noqa\u001b[39;00m\n",
      "File \u001b[0;32m~/anaconda3/lib/python3.10/site-packages/binance/client.py:17\u001b[0m\n\u001b[1;32m     14\u001b[0m \u001b[38;5;28;01mfrom\u001b[39;00m \u001b[38;5;21;01moperator\u001b[39;00m \u001b[38;5;28;01mimport\u001b[39;00m itemgetter\n\u001b[1;32m     15\u001b[0m \u001b[38;5;28;01mfrom\u001b[39;00m \u001b[38;5;21;01murllib\u001b[39;00m\u001b[38;5;21;01m.\u001b[39;00m\u001b[38;5;21;01mparse\u001b[39;00m \u001b[38;5;28;01mimport\u001b[39;00m urlencode\n\u001b[0;32m---> 17\u001b[0m \u001b[38;5;28;01mfrom\u001b[39;00m \u001b[38;5;21;01m.\u001b[39;00m\u001b[38;5;21;01mhelpers\u001b[39;00m \u001b[38;5;28;01mimport\u001b[39;00m interval_to_milliseconds, convert_ts_str\n\u001b[1;32m     18\u001b[0m \u001b[38;5;28;01mfrom\u001b[39;00m \u001b[38;5;21;01m.\u001b[39;00m\u001b[38;5;21;01mexceptions\u001b[39;00m \u001b[38;5;28;01mimport\u001b[39;00m BinanceAPIException, BinanceRequestException, NotImplementedException\n\u001b[1;32m     19\u001b[0m \u001b[38;5;28;01mfrom\u001b[39;00m \u001b[38;5;21;01m.\u001b[39;00m\u001b[38;5;21;01menums\u001b[39;00m \u001b[38;5;28;01mimport\u001b[39;00m HistoricalKlinesType\n",
      "File \u001b[0;32m~/anaconda3/lib/python3.10/site-packages/binance/helpers.py:4\u001b[0m\n\u001b[1;32m      1\u001b[0m \u001b[38;5;28;01mfrom\u001b[39;00m \u001b[38;5;21;01mdecimal\u001b[39;00m \u001b[38;5;28;01mimport\u001b[39;00m Decimal\n\u001b[1;32m      2\u001b[0m \u001b[38;5;28;01mfrom\u001b[39;00m \u001b[38;5;21;01mtyping\u001b[39;00m \u001b[38;5;28;01mimport\u001b[39;00m Union, Optional, Dict\n\u001b[0;32m----> 4\u001b[0m \u001b[38;5;28;01mimport\u001b[39;00m \u001b[38;5;21;01mdateparser\u001b[39;00m\n\u001b[1;32m      5\u001b[0m \u001b[38;5;28;01mimport\u001b[39;00m \u001b[38;5;21;01mpytz\u001b[39;00m\n\u001b[1;32m      7\u001b[0m \u001b[38;5;28;01mfrom\u001b[39;00m \u001b[38;5;21;01mdatetime\u001b[39;00m \u001b[38;5;28;01mimport\u001b[39;00m datetime\n",
      "File \u001b[0;32m~/anaconda3/lib/python3.10/site-packages/dateparser/__init__.py:3\u001b[0m\n\u001b[1;32m      1\u001b[0m __version__ \u001b[38;5;241m=\u001b[39m \u001b[38;5;124m'\u001b[39m\u001b[38;5;124m1.1.8\u001b[39m\u001b[38;5;124m'\u001b[39m\n\u001b[0;32m----> 3\u001b[0m \u001b[38;5;28;01mfrom\u001b[39;00m \u001b[38;5;21;01m.\u001b[39;00m\u001b[38;5;21;01mdate\u001b[39;00m \u001b[38;5;28;01mimport\u001b[39;00m DateDataParser\n\u001b[1;32m      4\u001b[0m \u001b[38;5;28;01mfrom\u001b[39;00m \u001b[38;5;21;01m.\u001b[39;00m\u001b[38;5;21;01mconf\u001b[39;00m \u001b[38;5;28;01mimport\u001b[39;00m apply_settings\n\u001b[1;32m      6\u001b[0m _default_parser \u001b[38;5;241m=\u001b[39m DateDataParser()\n",
      "File \u001b[0;32m~/anaconda3/lib/python3.10/site-packages/dateparser/date.py:6\u001b[0m\n\u001b[1;32m      3\u001b[0m \u001b[38;5;28;01mfrom\u001b[39;00m \u001b[38;5;21;01mcollections\u001b[39;00m\u001b[38;5;21;01m.\u001b[39;00m\u001b[38;5;21;01mabc\u001b[39;00m \u001b[38;5;28;01mimport\u001b[39;00m Set\n\u001b[1;32m      4\u001b[0m \u001b[38;5;28;01mfrom\u001b[39;00m \u001b[38;5;21;01mdatetime\u001b[39;00m \u001b[38;5;28;01mimport\u001b[39;00m datetime, timedelta\n\u001b[0;32m----> 6\u001b[0m \u001b[38;5;28;01mimport\u001b[39;00m \u001b[38;5;21;01mregex\u001b[39;00m \u001b[38;5;28;01mas\u001b[39;00m \u001b[38;5;21;01mre\u001b[39;00m\n\u001b[1;32m      7\u001b[0m \u001b[38;5;28;01mfrom\u001b[39;00m \u001b[38;5;21;01mtzlocal\u001b[39;00m \u001b[38;5;28;01mimport\u001b[39;00m get_localzone\n\u001b[1;32m      8\u001b[0m \u001b[38;5;28;01mfrom\u001b[39;00m \u001b[38;5;21;01mdateutil\u001b[39;00m\u001b[38;5;21;01m.\u001b[39;00m\u001b[38;5;21;01mrelativedelta\u001b[39;00m \u001b[38;5;28;01mimport\u001b[39;00m relativedelta\n",
      "\u001b[0;31mModuleNotFoundError\u001b[0m: No module named 'regex'"
     ]
    }
   ],
   "source": [
    "import requests\n",
    "import pandas as pd\n",
    "import datetime\n",
    "import configparser\n",
    "from binance import Client\n",
    "import pandas as pd\n",
    "import numpy as np"
   ]
  },
  {
   "cell_type": "code",
   "execution_count": 2,
   "id": "8e48b520",
   "metadata": {},
   "outputs": [
    {
     "name": "stdout",
     "output_type": "stream",
     "text": [
      "logged in\n"
     ]
    }
   ],
   "source": [
    "# config_data=configparser.ConfigParser()\n",
    "# config_data.read(\"config.ini\")\n",
    "# keys=config_data['keys']\n",
    "# client=Client(keys['apiKey'],keys['secretKey']) #create binance api client\n",
    "# print('logged in')"
   ]
  },
  {
   "cell_type": "code",
   "execution_count": 3,
   "id": "be49f3cb",
   "metadata": {},
   "outputs": [],
   "source": [
    "# # Calculate the start and end dates for yesterday\n",
    "# end_date = datetime.datetime.now().replace(hour=0, minute=0, second=0, microsecond=0)\n",
    "# start_date = end_date - datetime.timedelta(days=1)\n",
    "\n",
    "# # Convert the dates to milliseconds for the Binance API\n",
    "# start_timestamp = int(start_date.timestamp() * 1000)\n",
    "# end_timestamp = int(end_date.timestamp() * 1000)"
   ]
  },
  {
   "cell_type": "code",
   "execution_count": 4,
   "id": "b44cd45a",
   "metadata": {},
   "outputs": [
    {
     "data": {
      "text/plain": [
       "[[1685318400000,\n",
       "  '28065.01000000',\n",
       "  '28447.14000000',\n",
       "  '27524.60000000',\n",
       "  '27736.40000000',\n",
       "  '42385.41945000',\n",
       "  1685404799999,\n",
       "  '1182678581.63466910',\n",
       "  805579,\n",
       "  '20199.85331000',\n",
       "  '563722083.65919410',\n",
       "  '0']]"
      ]
     },
     "execution_count": 4,
     "metadata": {},
     "output_type": "execute_result"
    }
   ],
   "source": [
    "# historical = client.get_historical_klines('BTCUSDT',Client.KLINE_INTERVAL_1DAY,start_timestamp, end_timestamp)# parameters:(symbol, interval, date_from)\n",
    "# historical"
   ]
  },
  {
   "cell_type": "code",
   "execution_count": null,
   "id": "57148432",
   "metadata": {},
   "outputs": [],
   "source": [
    "import datetime\n",
    "\n",
    "# Get the current date\n",
    "current_date = datetime.datetime.now()\n",
    "\n",
    "# Calculate the previous day\n",
    "previous_day = current_date - datetime.timedelta(days=1)\n",
    "previous_day_start = datetime.datetime(previous_day.year, previous_day.month, previous_day.day, 0, 0, 0)\n",
    "previous_day_end = previous_day_start + datetime.timedelta(days=1)\n",
    "\n",
    "# Convert the timestamps to milliseconds\n",
    "start_time = int(previous_day_start.timestamp()) * 1000\n",
    "end_time = int(previous_day_end.timestamp()) * 1000\n",
    "\n",
    "# Construct the URL with the modified timestamp\n",
    "url = f\"https://api.binance.com/api/v3/klines?symbol=BTCUSDT&interval=1d&startTime={start_time}&endTime={end_time}&limit=1\"\n",
    "\n",
    "\n",
    "\n",
    "# Send GET request to the API\n",
    "response = requests.get(url)\n",
    "\n",
    "# Parse the response JSON data\n",
    "data = response.json()\n",
    "columns =['date','open','high','low','close','volume','Close Time','Quote Asset Volume','Number of Trades','TB Base Volume','TB Quote Volume','Ignore']\n",
    "hist_df = pd.DataFrame(data, columns=columns)\n"
   ]
  },
  {
   "cell_type": "code",
   "execution_count": 5,
   "id": "7118997a",
   "metadata": {},
   "outputs": [
    {
     "data": {
      "text/html": [
       "<div>\n",
       "<style scoped>\n",
       "    .dataframe tbody tr th:only-of-type {\n",
       "        vertical-align: middle;\n",
       "    }\n",
       "\n",
       "    .dataframe tbody tr th {\n",
       "        vertical-align: top;\n",
       "    }\n",
       "\n",
       "    .dataframe thead th {\n",
       "        text-align: right;\n",
       "    }\n",
       "</style>\n",
       "<table border=\"1\" class=\"dataframe\">\n",
       "  <thead>\n",
       "    <tr style=\"text-align: right;\">\n",
       "      <th></th>\n",
       "      <th>0</th>\n",
       "      <th>1</th>\n",
       "      <th>2</th>\n",
       "      <th>3</th>\n",
       "      <th>4</th>\n",
       "      <th>5</th>\n",
       "      <th>6</th>\n",
       "      <th>7</th>\n",
       "      <th>8</th>\n",
       "      <th>9</th>\n",
       "      <th>10</th>\n",
       "      <th>11</th>\n",
       "    </tr>\n",
       "  </thead>\n",
       "  <tbody>\n",
       "    <tr>\n",
       "      <th>0</th>\n",
       "      <td>1685318400000</td>\n",
       "      <td>28065.01000000</td>\n",
       "      <td>28447.14000000</td>\n",
       "      <td>27524.60000000</td>\n",
       "      <td>27736.40000000</td>\n",
       "      <td>42385.41945000</td>\n",
       "      <td>1685404799999</td>\n",
       "      <td>1182678581.63466910</td>\n",
       "      <td>805579</td>\n",
       "      <td>20199.85331000</td>\n",
       "      <td>563722083.65919410</td>\n",
       "      <td>0</td>\n",
       "    </tr>\n",
       "  </tbody>\n",
       "</table>\n",
       "</div>"
      ],
      "text/plain": [
       "              0               1               2               3   \\\n",
       "0  1685318400000  28065.01000000  28447.14000000  27524.60000000   \n",
       "\n",
       "               4               5              6                    7       8   \\\n",
       "0  27736.40000000  42385.41945000  1685404799999  1182678581.63466910  805579   \n",
       "\n",
       "               9                   10 11  \n",
       "0  20199.85331000  563722083.65919410  0  "
      ]
     },
     "execution_count": 5,
     "metadata": {},
     "output_type": "execute_result"
    }
   ],
   "source": [
    "# hist_df=pd.DataFrame(historical)\n",
    "# hist_df"
   ]
  },
  {
   "cell_type": "code",
   "execution_count": 6,
   "id": "5289e79e",
   "metadata": {},
   "outputs": [
    {
     "data": {
      "text/html": [
       "<div>\n",
       "<style scoped>\n",
       "    .dataframe tbody tr th:only-of-type {\n",
       "        vertical-align: middle;\n",
       "    }\n",
       "\n",
       "    .dataframe tbody tr th {\n",
       "        vertical-align: top;\n",
       "    }\n",
       "\n",
       "    .dataframe thead th {\n",
       "        text-align: right;\n",
       "    }\n",
       "</style>\n",
       "<table border=\"1\" class=\"dataframe\">\n",
       "  <thead>\n",
       "    <tr style=\"text-align: right;\">\n",
       "      <th></th>\n",
       "      <th>date</th>\n",
       "      <th>open</th>\n",
       "      <th>high</th>\n",
       "      <th>low</th>\n",
       "      <th>close</th>\n",
       "      <th>volume</th>\n",
       "      <th>Close Time</th>\n",
       "      <th>Quote Asset Volume</th>\n",
       "      <th>Number of Trades</th>\n",
       "      <th>TB Base Volume</th>\n",
       "      <th>TB Quote Volume</th>\n",
       "      <th>Ignore</th>\n",
       "    </tr>\n",
       "  </thead>\n",
       "  <tbody>\n",
       "    <tr>\n",
       "      <th>0</th>\n",
       "      <td>1685318400000</td>\n",
       "      <td>28065.01000000</td>\n",
       "      <td>28447.14000000</td>\n",
       "      <td>27524.60000000</td>\n",
       "      <td>27736.40000000</td>\n",
       "      <td>42385.41945000</td>\n",
       "      <td>1685404799999</td>\n",
       "      <td>1182678581.63466910</td>\n",
       "      <td>805579</td>\n",
       "      <td>20199.85331000</td>\n",
       "      <td>563722083.65919410</td>\n",
       "      <td>0</td>\n",
       "    </tr>\n",
       "  </tbody>\n",
       "</table>\n",
       "</div>"
      ],
      "text/plain": [
       "            date            open            high             low  \\\n",
       "0  1685318400000  28065.01000000  28447.14000000  27524.60000000   \n",
       "\n",
       "            close          volume     Close Time   Quote Asset Volume  \\\n",
       "0  27736.40000000  42385.41945000  1685404799999  1182678581.63466910   \n",
       "\n",
       "   Number of Trades  TB Base Volume     TB Quote Volume Ignore  \n",
       "0            805579  20199.85331000  563722083.65919410      0  "
      ]
     },
     "execution_count": 6,
     "metadata": {},
     "output_type": "execute_result"
    }
   ],
   "source": [
    "# hist_df.columns=['date','open','high','low','close','volume','Close Time','Quote Asset Volume','Number of Trades','TB Base Volume','TB Quote Volume','Ignore']\n",
    "# hist_df.head()"
   ]
  },
  {
   "cell_type": "code",
   "execution_count": 7,
   "id": "6c04cc8c",
   "metadata": {},
   "outputs": [
    {
     "data": {
      "text/plain": [
       "date                  datetime64[ns]\n",
       "open                          object\n",
       "high                          object\n",
       "low                           object\n",
       "close                         object\n",
       "volume                        object\n",
       "Close Time            datetime64[ns]\n",
       "Quote Asset Volume            object\n",
       "Number of Trades               int64\n",
       "TB Base Volume                object\n",
       "TB Quote Volume               object\n",
       "Ignore                        object\n",
       "dtype: object"
      ]
     },
     "execution_count": 7,
     "metadata": {},
     "output_type": "execute_result"
    }
   ],
   "source": [
    "#convert from Unix timestamps to date\n",
    "hist_df['date']= pd.to_datetime(hist_df['date']/1000, unit='s')\n",
    "hist_df['Close Time']= pd.to_datetime(hist_df['Close Time']/1000, unit='s')\n",
    "hist_df.dtypes"
   ]
  },
  {
   "cell_type": "code",
   "execution_count": 8,
   "id": "8866e01b",
   "metadata": {},
   "outputs": [
    {
     "data": {
      "text/html": [
       "<div>\n",
       "<style scoped>\n",
       "    .dataframe tbody tr th:only-of-type {\n",
       "        vertical-align: middle;\n",
       "    }\n",
       "\n",
       "    .dataframe tbody tr th {\n",
       "        vertical-align: top;\n",
       "    }\n",
       "\n",
       "    .dataframe thead th {\n",
       "        text-align: right;\n",
       "    }\n",
       "</style>\n",
       "<table border=\"1\" class=\"dataframe\">\n",
       "  <thead>\n",
       "    <tr style=\"text-align: right;\">\n",
       "      <th></th>\n",
       "      <th>date</th>\n",
       "      <th>open</th>\n",
       "      <th>high</th>\n",
       "      <th>low</th>\n",
       "      <th>close</th>\n",
       "      <th>volume</th>\n",
       "      <th>Close Time</th>\n",
       "      <th>Quote Asset Volume</th>\n",
       "      <th>Number of Trades</th>\n",
       "      <th>TB Base Volume</th>\n",
       "      <th>TB Quote Volume</th>\n",
       "      <th>Ignore</th>\n",
       "    </tr>\n",
       "  </thead>\n",
       "  <tbody>\n",
       "    <tr>\n",
       "      <th>0</th>\n",
       "      <td>2023-05-29</td>\n",
       "      <td>28065.01000000</td>\n",
       "      <td>28447.14000000</td>\n",
       "      <td>27524.60000000</td>\n",
       "      <td>27736.40000000</td>\n",
       "      <td>42385.41945000</td>\n",
       "      <td>2023-05-29 23:59:59.999000064</td>\n",
       "      <td>1182678581.63466910</td>\n",
       "      <td>805579</td>\n",
       "      <td>20199.85331000</td>\n",
       "      <td>563722083.65919410</td>\n",
       "      <td>0</td>\n",
       "    </tr>\n",
       "  </tbody>\n",
       "</table>\n",
       "</div>"
      ],
      "text/plain": [
       "        date            open            high             low           close  \\\n",
       "0 2023-05-29  28065.01000000  28447.14000000  27524.60000000  27736.40000000   \n",
       "\n",
       "           volume                    Close Time   Quote Asset Volume  \\\n",
       "0  42385.41945000 2023-05-29 23:59:59.999000064  1182678581.63466910   \n",
       "\n",
       "   Number of Trades  TB Base Volume     TB Quote Volume Ignore  \n",
       "0            805579  20199.85331000  563722083.65919410      0  "
      ]
     },
     "execution_count": 8,
     "metadata": {},
     "output_type": "execute_result"
    }
   ],
   "source": [
    "hist_df.head() #notice open time and close time "
   ]
  },
  {
   "cell_type": "code",
   "execution_count": 9,
   "id": "fa3920fb",
   "metadata": {},
   "outputs": [],
   "source": [
    "hist_df.date=hist_df.date.apply(lambda x: x.date())"
   ]
  },
  {
   "cell_type": "code",
   "execution_count": 10,
   "id": "bea5ac2d",
   "metadata": {},
   "outputs": [
    {
     "data": {
      "text/html": [
       "<div>\n",
       "<style scoped>\n",
       "    .dataframe tbody tr th:only-of-type {\n",
       "        vertical-align: middle;\n",
       "    }\n",
       "\n",
       "    .dataframe tbody tr th {\n",
       "        vertical-align: top;\n",
       "    }\n",
       "\n",
       "    .dataframe thead th {\n",
       "        text-align: right;\n",
       "    }\n",
       "</style>\n",
       "<table border=\"1\" class=\"dataframe\">\n",
       "  <thead>\n",
       "    <tr style=\"text-align: right;\">\n",
       "      <th></th>\n",
       "      <th>date</th>\n",
       "      <th>open</th>\n",
       "      <th>high</th>\n",
       "      <th>low</th>\n",
       "      <th>close</th>\n",
       "      <th>volume</th>\n",
       "      <th>Close Time</th>\n",
       "      <th>Quote Asset Volume</th>\n",
       "      <th>Number of Trades</th>\n",
       "      <th>TB Base Volume</th>\n",
       "      <th>TB Quote Volume</th>\n",
       "      <th>Ignore</th>\n",
       "    </tr>\n",
       "  </thead>\n",
       "  <tbody>\n",
       "    <tr>\n",
       "      <th>0</th>\n",
       "      <td>2023-05-29</td>\n",
       "      <td>28065.01</td>\n",
       "      <td>28447.14</td>\n",
       "      <td>27524.6</td>\n",
       "      <td>27736.4</td>\n",
       "      <td>42385.41945</td>\n",
       "      <td>2023-05-29 23:59:59.999000064</td>\n",
       "      <td>1.182679e+09</td>\n",
       "      <td>805579</td>\n",
       "      <td>20199.85331</td>\n",
       "      <td>5.637221e+08</td>\n",
       "      <td>0</td>\n",
       "    </tr>\n",
       "  </tbody>\n",
       "</table>\n",
       "</div>"
      ],
      "text/plain": [
       "         date      open      high      low    close       volume  \\\n",
       "0  2023-05-29  28065.01  28447.14  27524.6  27736.4  42385.41945   \n",
       "\n",
       "                     Close Time  Quote Asset Volume  Number of Trades  \\\n",
       "0 2023-05-29 23:59:59.999000064        1.182679e+09            805579   \n",
       "\n",
       "   TB Base Volume  TB Quote Volume Ignore  \n",
       "0     20199.85331     5.637221e+08      0  "
      ]
     },
     "execution_count": 10,
     "metadata": {},
     "output_type": "execute_result"
    }
   ],
   "source": [
    "numeric_columns=['open','high','low','close','volume','Quote Asset Volume','TB Base Volume','TB Quote Volume']\n",
    "hist_df[numeric_columns]=hist_df[numeric_columns].apply(pd.to_numeric,axis=1)\n",
    "hist_df.head()"
   ]
  },
  {
   "cell_type": "code",
   "execution_count": 11,
   "id": "41e31e9d",
   "metadata": {},
   "outputs": [],
   "source": [
    "hist_df.drop(['Close Time','Quote Asset Volume','TB Quote Volume','Ignore'],inplace=True,axis=1)"
   ]
  },
  {
   "cell_type": "code",
   "execution_count": 13,
   "id": "dc38f950",
   "metadata": {},
   "outputs": [],
   "source": [
    "features = [\n",
    "    'market-price',\n",
    "    'difficulty',\n",
    "    'total-bitcoins',\n",
    "    'blocks-size',\n",
    "    'market-cap']\n",
    "#    0   Unnamed: 0        1499 non-null   int64  \n",
    "#  1   date              1499 non-null   object \n",
    "#  2   market-price      1499 non-null   float64\n",
    "#  3   difficulty        1499 non-null   float64\n",
    "#  4   total-bitcoins    1499 non-null   float64\n",
    "#  5   blocks-size       1499 non-null   float64\n",
    "#  6   market-cap        1499 non-null   float64\n",
    "#  7   open              1499 non-null   float64\n",
    "#  8   high              1499 non-null   float64\n",
    "#  9   low               1499 non-null   float64\n",
    "#  10  close             1499 non-null   float64\n",
    "#  11  volume            1499 non-null   float64\n",
    "#  12  Number of Trades  1499 non-null   int64  \n",
    "#  13  TB Base Volume    1499 non-null   float64\n",
    "#  14  close_nextday"
   ]
  },
  {
   "cell_type": "code",
   "execution_count": 12,
   "id": "5326ed27",
   "metadata": {},
   "outputs": [
    {
     "data": {
      "text/html": [
       "<div>\n",
       "<style scoped>\n",
       "    .dataframe tbody tr th:only-of-type {\n",
       "        vertical-align: middle;\n",
       "    }\n",
       "\n",
       "    .dataframe tbody tr th {\n",
       "        vertical-align: top;\n",
       "    }\n",
       "\n",
       "    .dataframe thead th {\n",
       "        text-align: right;\n",
       "    }\n",
       "</style>\n",
       "<table border=\"1\" class=\"dataframe\">\n",
       "  <thead>\n",
       "    <tr style=\"text-align: right;\">\n",
       "      <th></th>\n",
       "      <th>date</th>\n",
       "      <th>open</th>\n",
       "      <th>high</th>\n",
       "      <th>low</th>\n",
       "      <th>close</th>\n",
       "      <th>volume</th>\n",
       "      <th>Number of Trades</th>\n",
       "      <th>TB Base Volume</th>\n",
       "    </tr>\n",
       "  </thead>\n",
       "  <tbody>\n",
       "    <tr>\n",
       "      <th>0</th>\n",
       "      <td>2023-05-29</td>\n",
       "      <td>28065.01</td>\n",
       "      <td>28447.14</td>\n",
       "      <td>27524.6</td>\n",
       "      <td>27736.4</td>\n",
       "      <td>42385.41945</td>\n",
       "      <td>805579</td>\n",
       "      <td>20199.85331</td>\n",
       "    </tr>\n",
       "  </tbody>\n",
       "</table>\n",
       "</div>"
      ],
      "text/plain": [
       "         date      open      high      low    close       volume  \\\n",
       "0  2023-05-29  28065.01  28447.14  27524.6  27736.4  42385.41945   \n",
       "\n",
       "   Number of Trades  TB Base Volume  \n",
       "0            805579     20199.85331  "
      ]
     },
     "execution_count": 12,
     "metadata": {},
     "output_type": "execute_result"
    }
   ],
   "source": [
    "hist_df"
   ]
  },
  {
   "cell_type": "code",
   "execution_count": null,
   "id": "d3b0e9be",
   "metadata": {},
   "outputs": [],
   "source": [
    "btc_close=hist_df['Close'][0]"
   ]
  },
  {
   "cell_type": "code",
   "execution_count": 14,
   "id": "b0167346",
   "metadata": {},
   "outputs": [
    {
     "name": "stdout",
     "output_type": "stream",
     "text": [
      "market-price:\n",
      "         date  market-price\n",
      "0  2023-05-29       28082.7\n",
      "\n",
      "\n",
      "difficulty:\n",
      "         date    difficulty\n",
      "0  2023-05-29  4.954970e+13\n",
      "\n",
      "\n",
      "total-bitcoins:\n",
      "         date  total-bitcoins\n",
      "0  2023-05-29     19386631.25\n",
      "\n",
      "\n",
      "blocks-size:\n",
      "         date    blocks-size\n",
      "0  2023-05-29  484328.151344\n",
      "\n",
      "\n",
      "market-cap:\n",
      "         date    market-cap\n",
      "0  2023-05-29  5.474397e+11\n",
      "\n",
      "\n"
     ]
    }
   ],
   "source": [
    "import requests\n",
    "import warnings\n",
    "import pandas as pd\n",
    "import datetime\n",
    "\n",
    "# Ignore FutureWarning messages\n",
    "warnings.filterwarnings(\"ignore\", category=FutureWarning)\n",
    "\n",
    "url = 'https://api.blockchain.info/charts'\n",
    "params = {\n",
    "    'timespan': '1days',\n",
    "    'format': 'json'\n",
    "}\n",
    "\n",
    "# Define the data to retrieve\n",
    "data_types = [\n",
    "    'market-price',\n",
    "    'difficulty',\n",
    "    'total-bitcoins',\n",
    "    'blocks-size',\n",
    "    'market-cap']\n",
    "\n",
    "# Initialize a dictionary to store the dataframes\n",
    "dfs = {}\n",
    "\n",
    "# Loop over the data types and retrieve the data\n",
    "for data_type in data_types:\n",
    "    # Set the API endpoint for the current data type\n",
    "    current_url = f\"{url}/{data_type}\"\n",
    "    \n",
    "    # Make the API request\n",
    "    response = requests.get(current_url, params=params)\n",
    "    \n",
    "    # Extract the data from the response\n",
    "    data = response.json()['values']\n",
    "    \n",
    "    # Get the most recent entry from yesterday\n",
    "    yesterday = datetime.datetime.now().date() - datetime.timedelta(days=1)\n",
    "    recent_entry = next((entry for entry in data if datetime.datetime.fromtimestamp(entry['x']).date() == yesterday), None)\n",
    "    \n",
    "    # Create a dataframe for the current data type\n",
    "    df = pd.DataFrame(columns=['date', data_type])\n",
    "    \n",
    "    # Add the most recent entry to the dataframe\n",
    "    if recent_entry:\n",
    "        df = df.append({'date': datetime.datetime.fromtimestamp(recent_entry['x']).date(), data_type: recent_entry['y']}, ignore_index=True)\n",
    "    \n",
    "    # Store the DataFrame in the dictionary\n",
    "    dfs[data_type] = df\n",
    "\n",
    "# Print the DataFrames\n",
    "for data_type, df in dfs.items():\n",
    "    print(f\"{data_type}:\")\n",
    "    print(df)\n",
    "    print(\"\\n\")"
   ]
  },
  {
   "cell_type": "code",
   "execution_count": 15,
   "id": "e4de553d",
   "metadata": {},
   "outputs": [
    {
     "data": {
      "text/html": [
       "<div>\n",
       "<style scoped>\n",
       "    .dataframe tbody tr th:only-of-type {\n",
       "        vertical-align: middle;\n",
       "    }\n",
       "\n",
       "    .dataframe tbody tr th {\n",
       "        vertical-align: top;\n",
       "    }\n",
       "\n",
       "    .dataframe thead th {\n",
       "        text-align: right;\n",
       "    }\n",
       "</style>\n",
       "<table border=\"1\" class=\"dataframe\">\n",
       "  <thead>\n",
       "    <tr style=\"text-align: right;\">\n",
       "      <th></th>\n",
       "      <th>date</th>\n",
       "      <th>market-cap</th>\n",
       "    </tr>\n",
       "  </thead>\n",
       "  <tbody>\n",
       "    <tr>\n",
       "      <th>0</th>\n",
       "      <td>2023-05-29</td>\n",
       "      <td>5.474397e+11</td>\n",
       "    </tr>\n",
       "  </tbody>\n",
       "</table>\n",
       "</div>"
      ],
      "text/plain": [
       "         date    market-cap\n",
       "0  2023-05-29  5.474397e+11"
      ]
     },
     "execution_count": 15,
     "metadata": {},
     "output_type": "execute_result"
    }
   ],
   "source": [
    "#list of dataframes; each with the blockchain data\n",
    "frames=[]\n",
    "for key in dfs.keys():\n",
    "    name=key.replace('-','')\n",
    "    name=dfs[key]\n",
    "    frames.append(name)\n",
    "frames[4]"
   ]
  },
  {
   "cell_type": "code",
   "execution_count": 16,
   "id": "858666e6",
   "metadata": {},
   "outputs": [
    {
     "data": {
      "text/plain": [
       "dict_keys(['market-price', 'difficulty', 'total-bitcoins', 'blocks-size', 'market-cap'])"
      ]
     },
     "execution_count": 16,
     "metadata": {},
     "output_type": "execute_result"
    }
   ],
   "source": [
    "dfs.keys()"
   ]
  },
  {
   "cell_type": "code",
   "execution_count": 17,
   "id": "735f54c8",
   "metadata": {},
   "outputs": [
    {
     "name": "stdout",
     "output_type": "stream",
     "text": [
      "         date  market-price    difficulty\n",
      "0  2023-05-29       28082.7  4.954970e+13\n",
      "         date  market-price    difficulty  total-bitcoins\n",
      "0  2023-05-29       28082.7  4.954970e+13     19386631.25\n",
      "         date  market-price    difficulty  total-bitcoins    blocks-size\n",
      "0  2023-05-29       28082.7  4.954970e+13     19386631.25  484328.151344\n",
      "         date  market-price    difficulty  total-bitcoins    blocks-size  \\\n",
      "0  2023-05-29       28082.7  4.954970e+13     19386631.25  484328.151344   \n",
      "\n",
      "     market-cap  \n",
      "0  5.474397e+11  \n"
     ]
    }
   ],
   "source": [
    "#MERGE ALL RESULTING DATAFRAMES \n",
    "merged_df=frames[0].merge(frames[1],on='date')\n",
    "print(merged_df)\n",
    "for i in range(1,len(frames)-1):\n",
    "    merged_df=merged_df.merge(frames[i+1],on='date')\n",
    "    print(merged_df)"
   ]
  },
  {
   "cell_type": "code",
   "execution_count": 18,
   "id": "021c77f3",
   "metadata": {},
   "outputs": [
    {
     "data": {
      "text/html": [
       "<div>\n",
       "<style scoped>\n",
       "    .dataframe tbody tr th:only-of-type {\n",
       "        vertical-align: middle;\n",
       "    }\n",
       "\n",
       "    .dataframe tbody tr th {\n",
       "        vertical-align: top;\n",
       "    }\n",
       "\n",
       "    .dataframe thead th {\n",
       "        text-align: right;\n",
       "    }\n",
       "</style>\n",
       "<table border=\"1\" class=\"dataframe\">\n",
       "  <thead>\n",
       "    <tr style=\"text-align: right;\">\n",
       "      <th></th>\n",
       "      <th>market-price</th>\n",
       "      <th>difficulty</th>\n",
       "      <th>total-bitcoins</th>\n",
       "      <th>blocks-size</th>\n",
       "      <th>market-cap</th>\n",
       "    </tr>\n",
       "    <tr>\n",
       "      <th>date</th>\n",
       "      <th></th>\n",
       "      <th></th>\n",
       "      <th></th>\n",
       "      <th></th>\n",
       "      <th></th>\n",
       "    </tr>\n",
       "  </thead>\n",
       "  <tbody>\n",
       "    <tr>\n",
       "      <th>2023-05-29</th>\n",
       "      <td>28082.7</td>\n",
       "      <td>4.954970e+13</td>\n",
       "      <td>19386631.25</td>\n",
       "      <td>484328.151344</td>\n",
       "      <td>5.474397e+11</td>\n",
       "    </tr>\n",
       "  </tbody>\n",
       "</table>\n",
       "</div>"
      ],
      "text/plain": [
       "            market-price    difficulty  total-bitcoins    blocks-size  \\\n",
       "date                                                                    \n",
       "2023-05-29       28082.7  4.954970e+13     19386631.25  484328.151344   \n",
       "\n",
       "              market-cap  \n",
       "date                      \n",
       "2023-05-29  5.474397e+11  "
      ]
     },
     "execution_count": 18,
     "metadata": {},
     "output_type": "execute_result"
    }
   ],
   "source": [
    "merged_df.set_index('date')"
   ]
  },
  {
   "cell_type": "code",
   "execution_count": 19,
   "id": "d9ae600a",
   "metadata": {},
   "outputs": [],
   "source": [
    "whole_df=merged_df.merge(hist_df,on='date')"
   ]
  },
  {
   "cell_type": "code",
   "execution_count": 20,
   "id": "0b0517c4",
   "metadata": {},
   "outputs": [
    {
     "data": {
      "text/html": [
       "<div>\n",
       "<style scoped>\n",
       "    .dataframe tbody tr th:only-of-type {\n",
       "        vertical-align: middle;\n",
       "    }\n",
       "\n",
       "    .dataframe tbody tr th {\n",
       "        vertical-align: top;\n",
       "    }\n",
       "\n",
       "    .dataframe thead th {\n",
       "        text-align: right;\n",
       "    }\n",
       "</style>\n",
       "<table border=\"1\" class=\"dataframe\">\n",
       "  <thead>\n",
       "    <tr style=\"text-align: right;\">\n",
       "      <th></th>\n",
       "      <th>date</th>\n",
       "      <th>market-price</th>\n",
       "      <th>difficulty</th>\n",
       "      <th>total-bitcoins</th>\n",
       "      <th>blocks-size</th>\n",
       "      <th>market-cap</th>\n",
       "      <th>open</th>\n",
       "      <th>high</th>\n",
       "      <th>low</th>\n",
       "      <th>close</th>\n",
       "      <th>volume</th>\n",
       "      <th>Number of Trades</th>\n",
       "      <th>TB Base Volume</th>\n",
       "    </tr>\n",
       "  </thead>\n",
       "  <tbody>\n",
       "    <tr>\n",
       "      <th>0</th>\n",
       "      <td>2023-05-29</td>\n",
       "      <td>28082.7</td>\n",
       "      <td>4.954970e+13</td>\n",
       "      <td>19386631.25</td>\n",
       "      <td>484328.151344</td>\n",
       "      <td>5.474397e+11</td>\n",
       "      <td>28065.01</td>\n",
       "      <td>28447.14</td>\n",
       "      <td>27524.6</td>\n",
       "      <td>27736.4</td>\n",
       "      <td>42385.41945</td>\n",
       "      <td>805579</td>\n",
       "      <td>20199.85331</td>\n",
       "    </tr>\n",
       "  </tbody>\n",
       "</table>\n",
       "</div>"
      ],
      "text/plain": [
       "         date  market-price    difficulty  total-bitcoins    blocks-size  \\\n",
       "0  2023-05-29       28082.7  4.954970e+13     19386631.25  484328.151344   \n",
       "\n",
       "     market-cap      open      high      low    close       volume  \\\n",
       "0  5.474397e+11  28065.01  28447.14  27524.6  27736.4  42385.41945   \n",
       "\n",
       "   Number of Trades  TB Base Volume  \n",
       "0            805579     20199.85331  "
      ]
     },
     "execution_count": 20,
     "metadata": {},
     "output_type": "execute_result"
    }
   ],
   "source": [
    "whole_df"
   ]
  },
  {
   "cell_type": "code",
   "execution_count": 21,
   "id": "37dc428c",
   "metadata": {},
   "outputs": [],
   "source": [
    "whole_df.set_index('date',inplace=True)"
   ]
  },
  {
   "cell_type": "code",
   "execution_count": 22,
   "id": "68ce54ff",
   "metadata": {},
   "outputs": [
    {
     "data": {
      "text/html": [
       "<div>\n",
       "<style scoped>\n",
       "    .dataframe tbody tr th:only-of-type {\n",
       "        vertical-align: middle;\n",
       "    }\n",
       "\n",
       "    .dataframe tbody tr th {\n",
       "        vertical-align: top;\n",
       "    }\n",
       "\n",
       "    .dataframe thead th {\n",
       "        text-align: right;\n",
       "    }\n",
       "</style>\n",
       "<table border=\"1\" class=\"dataframe\">\n",
       "  <thead>\n",
       "    <tr style=\"text-align: right;\">\n",
       "      <th></th>\n",
       "      <th>market-price</th>\n",
       "      <th>difficulty</th>\n",
       "      <th>total-bitcoins</th>\n",
       "      <th>blocks-size</th>\n",
       "      <th>market-cap</th>\n",
       "      <th>open</th>\n",
       "      <th>high</th>\n",
       "      <th>low</th>\n",
       "      <th>close</th>\n",
       "      <th>volume</th>\n",
       "      <th>Number of Trades</th>\n",
       "      <th>TB Base Volume</th>\n",
       "    </tr>\n",
       "    <tr>\n",
       "      <th>date</th>\n",
       "      <th></th>\n",
       "      <th></th>\n",
       "      <th></th>\n",
       "      <th></th>\n",
       "      <th></th>\n",
       "      <th></th>\n",
       "      <th></th>\n",
       "      <th></th>\n",
       "      <th></th>\n",
       "      <th></th>\n",
       "      <th></th>\n",
       "      <th></th>\n",
       "    </tr>\n",
       "  </thead>\n",
       "  <tbody>\n",
       "    <tr>\n",
       "      <th>2023-05-29</th>\n",
       "      <td>28082.7</td>\n",
       "      <td>4.954970e+13</td>\n",
       "      <td>19386631.25</td>\n",
       "      <td>484328.151344</td>\n",
       "      <td>5.474397e+11</td>\n",
       "      <td>28065.01</td>\n",
       "      <td>28447.14</td>\n",
       "      <td>27524.6</td>\n",
       "      <td>27736.4</td>\n",
       "      <td>42385.41945</td>\n",
       "      <td>805579</td>\n",
       "      <td>20199.85331</td>\n",
       "    </tr>\n",
       "  </tbody>\n",
       "</table>\n",
       "</div>"
      ],
      "text/plain": [
       "            market-price    difficulty  total-bitcoins    blocks-size  \\\n",
       "date                                                                    \n",
       "2023-05-29       28082.7  4.954970e+13     19386631.25  484328.151344   \n",
       "\n",
       "              market-cap      open      high      low    close       volume  \\\n",
       "date                                                                          \n",
       "2023-05-29  5.474397e+11  28065.01  28447.14  27524.6  27736.4  42385.41945   \n",
       "\n",
       "            Number of Trades  TB Base Volume  \n",
       "date                                          \n",
       "2023-05-29            805579     20199.85331  "
      ]
     },
     "execution_count": 22,
     "metadata": {},
     "output_type": "execute_result"
    }
   ],
   "source": [
    "whole_df"
   ]
  },
  {
   "cell_type": "code",
   "execution_count": 50,
   "id": "9a382981",
   "metadata": {},
   "outputs": [
    {
     "data": {
      "text/html": [
       "<div>\n",
       "<style scoped>\n",
       "    .dataframe tbody tr th:only-of-type {\n",
       "        vertical-align: middle;\n",
       "    }\n",
       "\n",
       "    .dataframe tbody tr th {\n",
       "        vertical-align: top;\n",
       "    }\n",
       "\n",
       "    .dataframe thead th {\n",
       "        text-align: right;\n",
       "    }\n",
       "</style>\n",
       "<table border=\"1\" class=\"dataframe\">\n",
       "  <thead>\n",
       "    <tr style=\"text-align: right;\">\n",
       "      <th></th>\n",
       "      <th>market-price</th>\n",
       "      <th>difficulty</th>\n",
       "      <th>total-bitcoins</th>\n",
       "      <th>blocks-size</th>\n",
       "      <th>market-cap</th>\n",
       "      <th>open</th>\n",
       "      <th>high</th>\n",
       "      <th>low</th>\n",
       "      <th>close</th>\n",
       "      <th>volume</th>\n",
       "      <th>Number of Trades</th>\n",
       "      <th>TB Base Volume</th>\n",
       "      <th>close_nextday</th>\n",
       "    </tr>\n",
       "    <tr>\n",
       "      <th>date</th>\n",
       "      <th></th>\n",
       "      <th></th>\n",
       "      <th></th>\n",
       "      <th></th>\n",
       "      <th></th>\n",
       "      <th></th>\n",
       "      <th></th>\n",
       "      <th></th>\n",
       "      <th></th>\n",
       "      <th></th>\n",
       "      <th></th>\n",
       "      <th></th>\n",
       "      <th></th>\n",
       "    </tr>\n",
       "  </thead>\n",
       "  <tbody>\n",
       "    <tr>\n",
       "      <th>2023-05-29</th>\n",
       "      <td>28082.7</td>\n",
       "      <td>4.954970e+13</td>\n",
       "      <td>19386631.25</td>\n",
       "      <td>484328.151344</td>\n",
       "      <td>5.474397e+11</td>\n",
       "      <td>28065.01</td>\n",
       "      <td>28447.14</td>\n",
       "      <td>27524.6</td>\n",
       "      <td>27736.4</td>\n",
       "      <td>42385.41945</td>\n",
       "      <td>805579</td>\n",
       "      <td>20199.85331</td>\n",
       "      <td>0</td>\n",
       "    </tr>\n",
       "  </tbody>\n",
       "</table>\n",
       "</div>"
      ],
      "text/plain": [
       "            market-price    difficulty  total-bitcoins    blocks-size  \\\n",
       "date                                                                    \n",
       "2023-05-29       28082.7  4.954970e+13     19386631.25  484328.151344   \n",
       "\n",
       "              market-cap      open      high      low    close       volume  \\\n",
       "date                                                                          \n",
       "2023-05-29  5.474397e+11  28065.01  28447.14  27524.6  27736.4  42385.41945   \n",
       "\n",
       "            Number of Trades  TB Base Volume  close_nextday  \n",
       "date                                                         \n",
       "2023-05-29            805579     20199.85331              0  "
      ]
     },
     "execution_count": 50,
     "metadata": {},
     "output_type": "execute_result"
    }
   ],
   "source": [
    "whole_df['close_nextday']=0\n",
    "whole_df"
   ]
  },
  {
   "cell_type": "code",
   "execution_count": 51,
   "id": "f0eeee68",
   "metadata": {},
   "outputs": [],
   "source": [
    "import pickle\n",
    "with open('BTCscaler.pkl','rb') as file:\n",
    "    scaler=pickle.load(file)"
   ]
  },
  {
   "cell_type": "code",
   "execution_count": 52,
   "id": "1d5a189a",
   "metadata": {},
   "outputs": [
    {
     "data": {
      "text/plain": [
       "array([[ 0.38619988,  1.        ,  1.00375509,  1.00827965,  0.40446037,\n",
       "         0.38630757,  0.38297778,  0.3863934 ,  0.38478573,  0.04756104,\n",
       "         0.04903953,  0.04535775, -0.05039104]])"
      ]
     },
     "execution_count": 52,
     "metadata": {},
     "output_type": "execute_result"
    }
   ],
   "source": [
    "btc_scaled = scaler.transform(whole_df)\n",
    "btc_scaled"
   ]
  },
  {
   "cell_type": "code",
   "execution_count": 54,
   "id": "49b8873b",
   "metadata": {},
   "outputs": [],
   "source": [
    "X_test=btc_scaled[:,:12]"
   ]
  },
  {
   "cell_type": "code",
   "execution_count": 55,
   "id": "a76d8544",
   "metadata": {},
   "outputs": [],
   "source": [
    "import h5py\n",
    "from tensorflow.keras.models import load_model\n",
    "from keras import backend as K\n",
    "\n",
    "def root_mean_squared_error(y_true, y_pred):\n",
    "        return K.sqrt(K.mean(K.square(y_pred - y_true)))\n",
    "# Load the saved model\n",
    "model = load_model('my_bitcoinLSTM_model.h5',custom_objects={'root_mean_squared_error': root_mean_squared_error})"
   ]
  },
  {
   "cell_type": "code",
   "execution_count": 56,
   "id": "c839b4a6",
   "metadata": {},
   "outputs": [
    {
     "data": {
      "text/plain": [
       "array([[0.38619988, 1.        , 1.00375509, 1.00827965, 0.40446037,\n",
       "        0.38630757, 0.38297778, 0.3863934 , 0.38478573, 0.04756104,\n",
       "        0.04903953, 0.04535775]])"
      ]
     },
     "execution_count": 56,
     "metadata": {},
     "output_type": "execute_result"
    }
   ],
   "source": [
    "X_test"
   ]
  },
  {
   "cell_type": "code",
   "execution_count": 57,
   "id": "9fefa070",
   "metadata": {},
   "outputs": [
    {
     "data": {
      "text/plain": [
       "array([[0.38619988, 1.        , 1.00375509, 1.00827965, 0.40446037,\n",
       "        0.38630757, 0.38297778, 0.3863934 , 0.38478573, 0.04756104,\n",
       "        0.04903953, 0.04535775]])"
      ]
     },
     "execution_count": 57,
     "metadata": {},
     "output_type": "execute_result"
    }
   ],
   "source": [
    "X_test"
   ]
  },
  {
   "cell_type": "code",
   "execution_count": 58,
   "id": "4d58361e",
   "metadata": {},
   "outputs": [
    {
     "data": {
      "text/plain": [
       "(1, 12)"
      ]
     },
     "execution_count": 58,
     "metadata": {},
     "output_type": "execute_result"
    }
   ],
   "source": [
    "X_test.shape"
   ]
  },
  {
   "cell_type": "code",
   "execution_count": 59,
   "id": "018d05cb",
   "metadata": {},
   "outputs": [
    {
     "name": "stdout",
     "output_type": "stream",
     "text": [
      "66947.66\n",
      "3211.72\n"
     ]
    }
   ],
   "source": [
    "import pickle \n",
    "with open('bitcoin_closemax.pkl','rb') as file:\n",
    "    closeMax=pickle.load(file)\n",
    "    print(closeMax)\n",
    "with open('bitcoin_closemin.pkl','rb') as file:\n",
    "    closeMin=pickle.load(file)\n",
    "    print(closeMin)"
   ]
  },
  {
   "cell_type": "code",
   "execution_count": 60,
   "id": "7ceff764",
   "metadata": {},
   "outputs": [],
   "source": [
    "import tensorflow as tf\n",
    "X_test=tf.expand_dims(X_test,axis=1)"
   ]
  },
  {
   "cell_type": "code",
   "execution_count": 61,
   "id": "bfab8bf4",
   "metadata": {},
   "outputs": [
    {
     "data": {
      "text/plain": [
       "<tf.Tensor: shape=(1, 1, 12), dtype=float64, numpy=\n",
       "array([[[0.38619988, 1.        , 1.00375509, 1.00827965, 0.40446037,\n",
       "         0.38630757, 0.38297778, 0.3863934 , 0.38478573, 0.04756104,\n",
       "         0.04903953, 0.04535775]]])>"
      ]
     },
     "execution_count": 61,
     "metadata": {},
     "output_type": "execute_result"
    }
   ],
   "source": [
    "X_test"
   ]
  },
  {
   "cell_type": "code",
   "execution_count": 62,
   "id": "d7979cdb",
   "metadata": {},
   "outputs": [
    {
     "data": {
      "text/plain": [
       "TensorShape([1, 1, 12])"
      ]
     },
     "execution_count": 62,
     "metadata": {},
     "output_type": "execute_result"
    }
   ],
   "source": [
    "X_test.shape"
   ]
  },
  {
   "cell_type": "code",
   "execution_count": 63,
   "id": "1301d59f",
   "metadata": {},
   "outputs": [
    {
     "name": "stdout",
     "output_type": "stream",
     "text": [
      "1/1 [==============================] - 1s 1s/step\n"
     ]
    }
   ],
   "source": [
    "close_nextday = model.predict(X_test)"
   ]
  },
  {
   "cell_type": "code",
   "execution_count": 64,
   "id": "d51491e9",
   "metadata": {},
   "outputs": [
    {
     "data": {
      "text/plain": [
       "array([[0.38234255]], dtype=float32)"
      ]
     },
     "execution_count": 64,
     "metadata": {},
     "output_type": "execute_result"
    }
   ],
   "source": [
    "close_nextday"
   ]
  },
  {
   "cell_type": "code",
   "execution_count": 65,
   "id": "5a9ceda5",
   "metadata": {},
   "outputs": [
    {
     "data": {
      "text/plain": [
       "0.38234255"
      ]
     },
     "execution_count": 65,
     "metadata": {},
     "output_type": "execute_result"
    }
   ],
   "source": [
    "close_nextday[-1][0]"
   ]
  },
  {
   "cell_type": "code",
   "execution_count": 66,
   "id": "25bc1fd0",
   "metadata": {},
   "outputs": [
    {
     "data": {
      "text/plain": [
       "27580.681646401288"
      ]
     },
     "execution_count": 66,
     "metadata": {},
     "output_type": "execute_result"
    }
   ],
   "source": [
    "btc_closeNextday =  abs((close_nextday[-1][0] * (closeMax - closeMin)+ closeMin))\n",
    "btc_closeNextday"
   ]
  },
  {
   "cell_type": "markdown",
   "id": "7ec50c9f",
   "metadata": {},
   "source": [
    "# LiteCoin"
   ]
  },
  {
   "cell_type": "code",
   "execution_count": null,
   "id": "b7f6bd04",
   "metadata": {},
   "outputs": [],
   "source": [
    "import tensorflow as tf\n",
    "from tensorflow import keras\n",
    "# Define the custom loss function\n",
    "def root_mean_squared_error(y_true, y_pred):\n",
    "    return tf.sqrt(tf.reduce_mean(tf.square(y_pred - y_true)))\n",
    "\n",
    "# Load the model with custom loss function\n",
    "model = tf.keras.models.load_model('my_litecoinLSTM_model.h5', custom_objects={'root_mean_squared_error': root_mean_squared_error})\n"
   ]
  },
  {
   "cell_type": "code",
   "execution_count": null,
   "id": "a5111a5b",
   "metadata": {},
   "outputs": [],
   "source": [
    "import pandas as pd\n",
    "import requests\n",
    "\n",
    "import datetime\n",
    "\n",
    "import datetime\n",
    "\n",
    "# Get the current date\n",
    "current_date = datetime.datetime.now()\n",
    "\n",
    "# Calculate the previous day\n",
    "previous_day = current_date - datetime.timedelta(days=1)\n",
    "previous_day_start = datetime.datetime(previous_day.year, previous_day.month, previous_day.day, 0, 0, 0)\n",
    "previous_day_end = previous_day_start + datetime.timedelta(days=1)\n",
    "\n",
    "# Convert the timestamps to milliseconds\n",
    "start_time = int(previous_day_start.timestamp()) * 1000\n",
    "end_time = int(previous_day_end.timestamp()) * 1000\n",
    "\n",
    "# Construct the URL with the modified timestamp\n",
    "url = f\"https://api.binance.com/api/v3/klines?symbol=LTCUSDT&interval=1d&startTime={start_time}&endTime={end_time}&limit=1\"\n",
    "\n",
    "\n",
    "\n",
    "# Send GET request to the API\n",
    "response = requests.get(url)\n",
    "\n",
    "# Parse the response JSON data\n",
    "data = response.json()\n",
    "\n",
    "# Define column names\n",
    "columns = ['date', 'Open', 'High', 'Low', 'Close', 'Volume', 'Close Time', 'Quote Asset Volume', 'Number of Trades', 'TB Base Volume', 'Taker Buy Quote Asset Volume', 'Ignore']\n",
    "\n",
    "# Create DataFrame\n",
    "ltc = pd.DataFrame(data, columns=columns)\n",
    "\n",
    "# Convert data types\n",
    "ltc['date'] = pd.to_datetime(ltc['date'], unit='ms')\n",
    "ltc[['Open', 'High', 'Low', 'Close', 'Volume', 'Close Time', 'Quote Asset Volume', 'Number of Trades', 'TB Base Volume', 'Taker Buy Quote Asset Volume', 'Ignore']] = ltc[['Open', 'High', 'Low', 'Close', 'Volume', 'Close Time', 'Quote Asset Volume', 'Number of Trades', 'TB Base Volume', 'Taker Buy Quote Asset Volume', 'Ignore']].astype(float)\n",
    "\n",
    "# Print DataFrame\n",
    "print(ltc)\n",
    "ltc_close=ltc['Close'][0]\n"
   ]
  },
  {
   "cell_type": "code",
   "execution_count": null,
   "id": "9b10fa71",
   "metadata": {},
   "outputs": [],
   "source": [
    "ltc.drop(['Quote Asset Volume','Taker Buy Quote Asset Volume','Close Time','Ignore','Volume','Number of Trades',\n",
    "          'TB Base Volume'\n",
    "         ],axis=1,inplace=True)\n"
   ]
  },
  {
   "cell_type": "code",
   "execution_count": null,
   "id": "241d87ea",
   "metadata": {},
   "outputs": [],
   "source": [
    "ltc['close_nextday']=90"
   ]
  },
  {
   "cell_type": "code",
   "execution_count": null,
   "id": "0fab666c",
   "metadata": {},
   "outputs": [],
   "source": [
    "import requests\n",
    "\n",
    "url = 'https://min-api.cryptocompare.com/data/blockchain/histo/day'\n",
    "params = {'fsym': 'LTC', 'limit': 2, 'api_key': 'e6a9a2c327eba343b8ba318f86017574f6d9bdb9d5d13ae643531bda926f5e32'}\n",
    "\n",
    "response = requests.get(url, params=params)\n",
    "\n",
    "if response.status_code != 200:\n",
    "    print(f'Request failed with status code {response.status_code}.')\n",
    "else:\n",
    "    data = response.json()['Data']\n",
    "    print(data)\n"
   ]
  },
  {
   "cell_type": "code",
   "execution_count": null,
   "id": "8dc9a6bf",
   "metadata": {},
   "outputs": [],
   "source": [
    "from datetime import datetime, timedelta\n",
    "import pandas as pd\n",
    "\n",
    "df = pd.DataFrame(data)\n",
    "data_column = df['Data']\n",
    "blockchain_data = pd.json_normalize(df['Data'])\n",
    "\n",
    "hashrate = blockchain_data['hashrate'][0]\n",
    "difficulty = blockchain_data['difficulty'][0]\n",
    "previous_day = datetime.today().date() - timedelta(days=1)\n",
    "\n",
    "# Create dataframe\n",
    "blockchain_ltc = pd.DataFrame({\n",
    "    'hashrate': [hashrate],\n",
    "    'difficulty': [difficulty],\n",
    "\n",
    "    'date':pd.to_datetime(previous_day)    \n",
    "})"
   ]
  },
  {
   "cell_type": "code",
   "execution_count": null,
   "id": "c236d25f",
   "metadata": {},
   "outputs": [],
   "source": [
    "blockchain_ltc"
   ]
  },
  {
   "cell_type": "code",
   "execution_count": null,
   "id": "dfd9f7be",
   "metadata": {},
   "outputs": [],
   "source": [
    "ltc_df = pd.merge(blockchain_ltc,ltc , on=['date'])\n",
    "print(ltc_df)"
   ]
  },
  {
   "cell_type": "code",
   "execution_count": null,
   "id": "8cb857a8",
   "metadata": {},
   "outputs": [],
   "source": [
    "ltc_df.set_index('date', inplace=True)\n",
    "ltc_df.head()"
   ]
  },
  {
   "cell_type": "code",
   "execution_count": null,
   "id": "74a3d6e5",
   "metadata": {},
   "outputs": [],
   "source": [
    "import pickle\n",
    "\n",
    "# Load the scaler object from the file\n",
    "with open('LTCscaler.pkl', 'rb') as file:\n",
    "    scaler = pickle.load(file)\n",
    "\n",
    "# Use the scaler object as needed\n",
    "ltc_scaled = scaler.transform(ltc_df)"
   ]
  },
  {
   "cell_type": "code",
   "execution_count": null,
   "id": "e207842c",
   "metadata": {},
   "outputs": [],
   "source": [
    "ltc_scaled=ltc_scaled[:,:6]\n",
    "ltc_scaled"
   ]
  },
  {
   "cell_type": "code",
   "execution_count": null,
   "id": "afb510ab",
   "metadata": {},
   "outputs": [],
   "source": [
    "input_data_reshaped = tf.expand_dims(ltc_scaled, axis=1)"
   ]
  },
  {
   "cell_type": "code",
   "execution_count": null,
   "id": "f20f2337",
   "metadata": {},
   "outputs": [],
   "source": [
    "input_data_reshaped.shape"
   ]
  },
  {
   "cell_type": "code",
   "execution_count": null,
   "id": "7678a7b3",
   "metadata": {},
   "outputs": [],
   "source": [
    "predictions=model.predict (input_data_reshaped)\n",
    "predictions[-1][0]"
   ]
  },
  {
   "cell_type": "code",
   "execution_count": null,
   "id": "9bfee33d",
   "metadata": {},
   "outputs": [],
   "source": [
    "import pickle\n",
    "\n",
    "# Load the scaler object from the file\n",
    "with open('litecoin_closemin.pkl', 'rb') as file:\n",
    "    close_nextdaymin = pickle.load(file)\n",
    "\n",
    "print(close_nextdaymin)"
   ]
  },
  {
   "cell_type": "code",
   "execution_count": null,
   "id": "c282dfcb",
   "metadata": {},
   "outputs": [],
   "source": [
    "import pickle\n",
    "\n",
    "# Load the scaler object from the file\n",
    "with open('litecoin_closemax.pkl', 'rb') as file:\n",
    "    close_nextdaymax = pickle.load(file)\n",
    "\n",
    "print(close_nextdaymax)"
   ]
  },
  {
   "cell_type": "code",
   "execution_count": null,
   "id": "004db533",
   "metadata": {},
   "outputs": [],
   "source": [
    "# denormalized_value = (normalized_value * (max_value - min_value)) + min_value\n",
    "ltc_closeNextday =  (abs(predictions[-1][0] ) * (close_nextdaymax - close_nextdaymin)+ close_nextdaymin)\n",
    "print(ltc_closeNextday)"
   ]
  },
  {
   "cell_type": "code",
   "execution_count": null,
   "id": "6af4b07f",
   "metadata": {},
   "outputs": [],
   "source": [
    "# new_value>>> close_nextday\n",
    "# old_value>>>close\n",
    "def calculate_percent_change(close, close_nextday):\n",
    "    return ((close_nextday - close) / close) * 100\n",
    "\n",
    "def compare_percentage_changes(percentage_change_btc, percentage_change_ltc):\n",
    "\n",
    "    if percentage_change_btc >= 0 and percentage_change_ltc >= 0: #both are positive take higher \n",
    "        maximux=max(percentage_change_btc, percentage_change_ltc)\n",
    "        if maximux==percentage_change_btc:\n",
    "          return 'btc'\n",
    "        else:\n",
    "          return 'ltc'\n",
    "\n",
    "    elif percentage_change_btc >= 0 and percentage_change_ltc < 0: #one positive, one negative take posotive \n",
    "        return 'btc'\n",
    "\n",
    "    elif percentage_change_btc < 0 and percentage_change_ltc >= 0:\n",
    "        return 'ltc'\n",
    "\n",
    "    else:                                                                    #both are negative\n",
    "        minimum=min(abs(percentage_change_btc), abs(percentage_change_ltc))\n",
    "        if minimum == abs(percentage_change_btc):\n",
    "          return 'btc'\n",
    "        else:\n",
    "          return 'ltc'\n",
    "\n",
    "btc_close=27736.4        #for testing \n",
    "btc_closeNextday=27580.681646401288       #for testing\n",
    "\n",
    "percentage_change_btc = calculate_percent_change(btc_close, btc_closeNextday)\n",
    "percentage_change_ltc = calculate_percent_change(ltc_close, ltc_closeNextday)\n",
    "\n",
    "price_percentage_change = compare_percentage_changes(percentage_change_btc, percentage_change_ltc)\n",
    "\n",
    "print(\"percentage_change_btc:\", percentage_change_btc)\n",
    "print(\"percentage_change_ltc:\", percentage_change_ltc)\n",
    "\n",
    "print(\"Final percentage change:\", price_percentage_change)\n"
   ]
  },
  {
   "cell_type": "code",
   "execution_count": null,
   "id": "64ef0e41",
   "metadata": {},
   "outputs": [],
   "source": []
  },
  {
   "cell_type": "code",
   "execution_count": null,
   "id": "92bf41d5",
   "metadata": {},
   "outputs": [],
   "source": []
  },
  {
   "cell_type": "code",
   "execution_count": 38,
   "id": "23d81194",
   "metadata": {},
   "outputs": [],
   "source": [
    "# import subprocess"
   ]
  },
  {
   "cell_type": "code",
   "execution_count": 39,
   "id": "eb798183",
   "metadata": {},
   "outputs": [],
   "source": [
    "# profitable_coin=\"bitcoin\""
   ]
  },
  {
   "cell_type": "code",
   "execution_count": 40,
   "id": "9baf7716",
   "metadata": {},
   "outputs": [],
   "source": [
    "# cmd_bitcoin = \"vsim -c -do bscript.do\"\n",
    "# #cmd_litecoin = \"vsim -c -do coin2.tcl\""
   ]
  },
  {
   "cell_type": "code",
   "execution_count": 41,
   "id": "6991bdcf",
   "metadata": {},
   "outputs": [],
   "source": [
    "# if profitable_coin == 'bitcoin':\n",
    "#     subprocess.run(cmd_bitcoin, shell=True)\n",
    "# elif profitable_coin == 'coin2':\n",
    "#     subprocess.run(cmd_coin2, shell=True)"
   ]
  },
  {
   "cell_type": "markdown",
   "id": "208b83ba",
   "metadata": {},
   "source": [
    "###  selects device (index) + programs device (check mode)"
   ]
  },
  {
   "cell_type": "code",
   "execution_count": 42,
   "id": "cddabe21",
   "metadata": {},
   "outputs": [],
   "source": [
    "def program_device(sof_file,device_index):\n",
    "    sof_file = \"fpgaminer_top.sof\"\n",
    "    device_index = \"1\"\n",
    "\n",
    "    # Create the command to program the device\n",
    "    command = ['quartus_pgm', '-m', 'jtag', '-o', f'p;{sof_file}@{device_index}']\n",
    "\n",
    "    # Run the command\n",
    "    subprocess.run(command)\n"
   ]
  },
  {
   "cell_type": "code",
   "execution_count": null,
   "id": "4abc4105",
   "metadata": {},
   "outputs": [],
   "source": [
    "# old_value>> close\n",
    "# new_value>>> close_nextday\n",
    "\n",
    "def calculate_percent_change(close, close_nextday):\n",
    "    return ((close_nextday - close) / close) * 100\n",
    "\n",
    "def compare_percentage_changes(percentage_change1, percentage_change2):\n",
    "    if percentage_change1 >= 0 and percentage_change2 >= 0:\n",
    "        return max(percentage_change1, percentage_change2)\n",
    "    elif percentage_change1 >= 0 and percentage_change2 < 0:\n",
    "        return percentage_change1\n",
    "    elif percentage_change1 < 0 and percentage_change2 >= 0:\n",
    "        return percentage_change2\n",
    "    else:\n",
    "        return abs(min(percentage_change1, percentage_change2))\n",
    "\n",
    "# Example usage\n",
    "old_value1 = 100\n",
    "# close_nextday_Bitcoin>>new_value1\n",
    "percentage_change_Bitcoin = calculate_percent_change(old_value1, new_value1)\n",
    "\n",
    "old_value2 = 200\n",
    "new_value2 = 180\n",
    "percentage_change_Litecoin = calculate_percent_change(old_value2, new_value2)\n",
    "\n",
    "final_percentage_change = compare_percentage_changes(percentage_change1, percentage_change2)\n",
    "print(\"Final percentage change:\", final_percentage_change)\n"
   ]
  },
  {
   "cell_type": "markdown",
   "id": "f754364e",
   "metadata": {},
   "source": [
    "### navigate to .sof directory "
   ]
  },
  {
   "cell_type": "code",
   "execution_count": 43,
   "id": "60f99ccd",
   "metadata": {},
   "outputs": [],
   "source": [
    "# import os\n",
    "\n",
    "# def change_directory(directory):\n",
    "#     os.chdir(directory)\n",
    "\n",
    "# # Call the function to change the directory\n",
    "# #change_directory(r\"C:\\intelFPGA_lite\\16.1\\latestBminer\\output_files\")"
   ]
  },
  {
   "cell_type": "code",
   "execution_count": 44,
   "id": "4a8bc873",
   "metadata": {},
   "outputs": [],
   "source": [
    "# def run_quartus_script(script):\n",
    "#     # Run the Quartus script using the Quartus command\n",
    "#     subprocess.run(['quartus_sh', '-t', script+'.tcl'])\n",
    "\n",
    "# # Call the function to run the Quartus script\n",
    "# #run_quartus_script()"
   ]
  },
  {
   "cell_type": "code",
   "execution_count": 45,
   "id": "5882a330",
   "metadata": {},
   "outputs": [],
   "source": [
    "# if profitable_coin=='bitcoin':\n",
    "#     change_directory(r\"C:\\intelFPGA_lite\\16.1\\latestBminer\\output_files\")\n",
    "#     program_device(\"fpgamminer_top.sof\",\"1\")"
   ]
  },
  {
   "cell_type": "code",
   "execution_count": 46,
   "id": "1afdf046",
   "metadata": {},
   "outputs": [],
   "source": [
    "# def check_programming_status():\n",
    "#     # Run the quartus_pgm command with the appropriate options\n",
    "#     cmd = ['quartus_pgm', '-m', 'jtag', '-l']\n",
    "#     result = subprocess.run(cmd, capture_output=True, text=True)\n",
    "\n",
    "#     # Check the output to determine the programming status\n",
    "#     output = result.stdout.strip()\n",
    "#     if 'Programmed' in output:\n",
    "#         print(\"Device is already programmed.\")\n",
    "#     else:\n",
    "#         print(\"Device is not programmed.\")\n",
    "\n",
    "# # Call the function to check the programming status\n",
    "# check_programming_status()"
   ]
  }
 ],
 "metadata": {
  "kernelspec": {
   "display_name": "Python 3 (ipykernel)",
   "language": "python",
   "name": "python3"
  },
  "language_info": {
   "codemirror_mode": {
    "name": "ipython",
    "version": 3
   },
   "file_extension": ".py",
   "mimetype": "text/x-python",
   "name": "python",
   "nbconvert_exporter": "python",
   "pygments_lexer": "ipython3",
   "version": "3.10.9"
  }
 },
 "nbformat": 4,
 "nbformat_minor": 5
}
