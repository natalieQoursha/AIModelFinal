{
 "cells": [
  {
   "cell_type": "code",
   "execution_count": 1,
   "id": "4166afe0",
   "metadata": {},
   "outputs": [],
   "source": [
    "import requests\n",
    "import pandas as pd\n",
    "import datetime\n",
    "import configparser\n",
    "from binance import Client, ThreadedWebsocketManager, ThreadedDepthCacheManager\n",
    "import pandas as pd\n",
    "import numpy as np"
   ]
  },
  {
   "cell_type": "code",
   "execution_count": 2,
   "id": "8e48b520",
   "metadata": {},
   "outputs": [
    {
     "name": "stdout",
     "output_type": "stream",
     "text": [
      "logged in\n"
     ]
    }
   ],
   "source": [
    "config_data=configparser.ConfigParser()\n",
    "config_data.read(\"config.ini\")\n",
    "keys=config_data['keys']\n",
    "client=Client(keys['apiKey'],keys['secretKey']) #create binance api client\n",
    "print('logged in')"
   ]
  },
  {
   "cell_type": "code",
   "execution_count": 3,
   "id": "be49f3cb",
   "metadata": {},
   "outputs": [],
   "source": [
    "# Calculate the start and end dates for yesterday\n",
    "end_date = datetime.datetime.now().replace(hour=0, minute=0, second=0, microsecond=0)\n",
    "start_date = end_date - datetime.timedelta(days=1)\n",
    "\n",
    "# Convert the dates to milliseconds for the Binance API\n",
    "start_timestamp = int(start_date.timestamp() * 1000)\n",
    "end_timestamp = int(end_date.timestamp() * 1000)"
   ]
  },
  {
   "cell_type": "code",
   "execution_count": 4,
   "id": "b44cd45a",
   "metadata": {},
   "outputs": [
    {
     "data": {
      "text/plain": [
       "[[1685318400000,\n",
       "  '28065.01000000',\n",
       "  '28447.14000000',\n",
       "  '27524.60000000',\n",
       "  '27736.40000000',\n",
       "  '42385.41945000',\n",
       "  1685404799999,\n",
       "  '1182678581.63466910',\n",
       "  805579,\n",
       "  '20199.85331000',\n",
       "  '563722083.65919410',\n",
       "  '0']]"
      ]
     },
     "execution_count": 4,
     "metadata": {},
     "output_type": "execute_result"
    }
   ],
   "source": [
    "historical = client.get_historical_klines('BTCUSDT',Client.KLINE_INTERVAL_1DAY,start_timestamp, end_timestamp)# parameters:(symbol, interval, date_from)\n",
    "historical"
   ]
  },
  {
   "cell_type": "code",
   "execution_count": 5,
   "id": "7118997a",
   "metadata": {},
   "outputs": [
    {
     "data": {
      "text/html": [
       "<div>\n",
       "<style scoped>\n",
       "    .dataframe tbody tr th:only-of-type {\n",
       "        vertical-align: middle;\n",
       "    }\n",
       "\n",
       "    .dataframe tbody tr th {\n",
       "        vertical-align: top;\n",
       "    }\n",
       "\n",
       "    .dataframe thead th {\n",
       "        text-align: right;\n",
       "    }\n",
       "</style>\n",
       "<table border=\"1\" class=\"dataframe\">\n",
       "  <thead>\n",
       "    <tr style=\"text-align: right;\">\n",
       "      <th></th>\n",
       "      <th>0</th>\n",
       "      <th>1</th>\n",
       "      <th>2</th>\n",
       "      <th>3</th>\n",
       "      <th>4</th>\n",
       "      <th>5</th>\n",
       "      <th>6</th>\n",
       "      <th>7</th>\n",
       "      <th>8</th>\n",
       "      <th>9</th>\n",
       "      <th>10</th>\n",
       "      <th>11</th>\n",
       "    </tr>\n",
       "  </thead>\n",
       "  <tbody>\n",
       "    <tr>\n",
       "      <th>0</th>\n",
       "      <td>1685318400000</td>\n",
       "      <td>28065.01000000</td>\n",
       "      <td>28447.14000000</td>\n",
       "      <td>27524.60000000</td>\n",
       "      <td>27736.40000000</td>\n",
       "      <td>42385.41945000</td>\n",
       "      <td>1685404799999</td>\n",
       "      <td>1182678581.63466910</td>\n",
       "      <td>805579</td>\n",
       "      <td>20199.85331000</td>\n",
       "      <td>563722083.65919410</td>\n",
       "      <td>0</td>\n",
       "    </tr>\n",
       "  </tbody>\n",
       "</table>\n",
       "</div>"
      ],
      "text/plain": [
       "              0               1               2               3   \\\n",
       "0  1685318400000  28065.01000000  28447.14000000  27524.60000000   \n",
       "\n",
       "               4               5              6                    7       8   \\\n",
       "0  27736.40000000  42385.41945000  1685404799999  1182678581.63466910  805579   \n",
       "\n",
       "               9                   10 11  \n",
       "0  20199.85331000  563722083.65919410  0  "
      ]
     },
     "execution_count": 5,
     "metadata": {},
     "output_type": "execute_result"
    }
   ],
   "source": [
    "hist_df=pd.DataFrame(historical)\n",
    "hist_df"
   ]
  },
  {
   "cell_type": "code",
   "execution_count": 6,
   "id": "5289e79e",
   "metadata": {},
   "outputs": [
    {
     "data": {
      "text/html": [
       "<div>\n",
       "<style scoped>\n",
       "    .dataframe tbody tr th:only-of-type {\n",
       "        vertical-align: middle;\n",
       "    }\n",
       "\n",
       "    .dataframe tbody tr th {\n",
       "        vertical-align: top;\n",
       "    }\n",
       "\n",
       "    .dataframe thead th {\n",
       "        text-align: right;\n",
       "    }\n",
       "</style>\n",
       "<table border=\"1\" class=\"dataframe\">\n",
       "  <thead>\n",
       "    <tr style=\"text-align: right;\">\n",
       "      <th></th>\n",
       "      <th>date</th>\n",
       "      <th>open</th>\n",
       "      <th>high</th>\n",
       "      <th>low</th>\n",
       "      <th>close</th>\n",
       "      <th>volume</th>\n",
       "      <th>Close Time</th>\n",
       "      <th>Quote Asset Volume</th>\n",
       "      <th>Number of Trades</th>\n",
       "      <th>TB Base Volume</th>\n",
       "      <th>TB Quote Volume</th>\n",
       "      <th>Ignore</th>\n",
       "    </tr>\n",
       "  </thead>\n",
       "  <tbody>\n",
       "    <tr>\n",
       "      <th>0</th>\n",
       "      <td>1685318400000</td>\n",
       "      <td>28065.01000000</td>\n",
       "      <td>28447.14000000</td>\n",
       "      <td>27524.60000000</td>\n",
       "      <td>27736.40000000</td>\n",
       "      <td>42385.41945000</td>\n",
       "      <td>1685404799999</td>\n",
       "      <td>1182678581.63466910</td>\n",
       "      <td>805579</td>\n",
       "      <td>20199.85331000</td>\n",
       "      <td>563722083.65919410</td>\n",
       "      <td>0</td>\n",
       "    </tr>\n",
       "  </tbody>\n",
       "</table>\n",
       "</div>"
      ],
      "text/plain": [
       "            date            open            high             low  \\\n",
       "0  1685318400000  28065.01000000  28447.14000000  27524.60000000   \n",
       "\n",
       "            close          volume     Close Time   Quote Asset Volume  \\\n",
       "0  27736.40000000  42385.41945000  1685404799999  1182678581.63466910   \n",
       "\n",
       "   Number of Trades  TB Base Volume     TB Quote Volume Ignore  \n",
       "0            805579  20199.85331000  563722083.65919410      0  "
      ]
     },
     "execution_count": 6,
     "metadata": {},
     "output_type": "execute_result"
    }
   ],
   "source": [
    "hist_df.columns=['date','open','high','low','close','volume','Close Time','Quote Asset Volume','Number of Trades','TB Base Volume','TB Quote Volume','Ignore']\n",
    "hist_df.head()"
   ]
  },
  {
   "cell_type": "code",
   "execution_count": 7,
   "id": "6c04cc8c",
   "metadata": {},
   "outputs": [
    {
     "data": {
      "text/plain": [
       "date                  datetime64[ns]\n",
       "open                          object\n",
       "high                          object\n",
       "low                           object\n",
       "close                         object\n",
       "volume                        object\n",
       "Close Time            datetime64[ns]\n",
       "Quote Asset Volume            object\n",
       "Number of Trades               int64\n",
       "TB Base Volume                object\n",
       "TB Quote Volume               object\n",
       "Ignore                        object\n",
       "dtype: object"
      ]
     },
     "execution_count": 7,
     "metadata": {},
     "output_type": "execute_result"
    }
   ],
   "source": [
    "#convert from Unix timestamps to date\n",
    "hist_df['date']= pd.to_datetime(hist_df['date']/1000, unit='s')\n",
    "hist_df['Close Time']= pd.to_datetime(hist_df['Close Time']/1000, unit='s')\n",
    "hist_df.dtypes"
   ]
  },
  {
   "cell_type": "code",
   "execution_count": 8,
   "id": "8866e01b",
   "metadata": {},
   "outputs": [
    {
     "data": {
      "text/html": [
       "<div>\n",
       "<style scoped>\n",
       "    .dataframe tbody tr th:only-of-type {\n",
       "        vertical-align: middle;\n",
       "    }\n",
       "\n",
       "    .dataframe tbody tr th {\n",
       "        vertical-align: top;\n",
       "    }\n",
       "\n",
       "    .dataframe thead th {\n",
       "        text-align: right;\n",
       "    }\n",
       "</style>\n",
       "<table border=\"1\" class=\"dataframe\">\n",
       "  <thead>\n",
       "    <tr style=\"text-align: right;\">\n",
       "      <th></th>\n",
       "      <th>date</th>\n",
       "      <th>open</th>\n",
       "      <th>high</th>\n",
       "      <th>low</th>\n",
       "      <th>close</th>\n",
       "      <th>volume</th>\n",
       "      <th>Close Time</th>\n",
       "      <th>Quote Asset Volume</th>\n",
       "      <th>Number of Trades</th>\n",
       "      <th>TB Base Volume</th>\n",
       "      <th>TB Quote Volume</th>\n",
       "      <th>Ignore</th>\n",
       "    </tr>\n",
       "  </thead>\n",
       "  <tbody>\n",
       "    <tr>\n",
       "      <th>0</th>\n",
       "      <td>2023-05-29</td>\n",
       "      <td>28065.01000000</td>\n",
       "      <td>28447.14000000</td>\n",
       "      <td>27524.60000000</td>\n",
       "      <td>27736.40000000</td>\n",
       "      <td>42385.41945000</td>\n",
       "      <td>2023-05-29 23:59:59.999000064</td>\n",
       "      <td>1182678581.63466910</td>\n",
       "      <td>805579</td>\n",
       "      <td>20199.85331000</td>\n",
       "      <td>563722083.65919410</td>\n",
       "      <td>0</td>\n",
       "    </tr>\n",
       "  </tbody>\n",
       "</table>\n",
       "</div>"
      ],
      "text/plain": [
       "        date            open            high             low           close  \\\n",
       "0 2023-05-29  28065.01000000  28447.14000000  27524.60000000  27736.40000000   \n",
       "\n",
       "           volume                    Close Time   Quote Asset Volume  \\\n",
       "0  42385.41945000 2023-05-29 23:59:59.999000064  1182678581.63466910   \n",
       "\n",
       "   Number of Trades  TB Base Volume     TB Quote Volume Ignore  \n",
       "0            805579  20199.85331000  563722083.65919410      0  "
      ]
     },
     "execution_count": 8,
     "metadata": {},
     "output_type": "execute_result"
    }
   ],
   "source": [
    "hist_df.head() #notice open time and close time "
   ]
  },
  {
   "cell_type": "code",
   "execution_count": 9,
   "id": "fa3920fb",
   "metadata": {},
   "outputs": [],
   "source": [
    "hist_df.date=hist_df.date.apply(lambda x: x.date())"
   ]
  },
  {
   "cell_type": "code",
   "execution_count": 10,
   "id": "bea5ac2d",
   "metadata": {},
   "outputs": [
    {
     "data": {
      "text/html": [
       "<div>\n",
       "<style scoped>\n",
       "    .dataframe tbody tr th:only-of-type {\n",
       "        vertical-align: middle;\n",
       "    }\n",
       "\n",
       "    .dataframe tbody tr th {\n",
       "        vertical-align: top;\n",
       "    }\n",
       "\n",
       "    .dataframe thead th {\n",
       "        text-align: right;\n",
       "    }\n",
       "</style>\n",
       "<table border=\"1\" class=\"dataframe\">\n",
       "  <thead>\n",
       "    <tr style=\"text-align: right;\">\n",
       "      <th></th>\n",
       "      <th>date</th>\n",
       "      <th>open</th>\n",
       "      <th>high</th>\n",
       "      <th>low</th>\n",
       "      <th>close</th>\n",
       "      <th>volume</th>\n",
       "      <th>Close Time</th>\n",
       "      <th>Quote Asset Volume</th>\n",
       "      <th>Number of Trades</th>\n",
       "      <th>TB Base Volume</th>\n",
       "      <th>TB Quote Volume</th>\n",
       "      <th>Ignore</th>\n",
       "    </tr>\n",
       "  </thead>\n",
       "  <tbody>\n",
       "    <tr>\n",
       "      <th>0</th>\n",
       "      <td>2023-05-29</td>\n",
       "      <td>28065.01</td>\n",
       "      <td>28447.14</td>\n",
       "      <td>27524.6</td>\n",
       "      <td>27736.4</td>\n",
       "      <td>42385.41945</td>\n",
       "      <td>2023-05-29 23:59:59.999000064</td>\n",
       "      <td>1.182679e+09</td>\n",
       "      <td>805579</td>\n",
       "      <td>20199.85331</td>\n",
       "      <td>5.637221e+08</td>\n",
       "      <td>0</td>\n",
       "    </tr>\n",
       "  </tbody>\n",
       "</table>\n",
       "</div>"
      ],
      "text/plain": [
       "         date      open      high      low    close       volume  \\\n",
       "0  2023-05-29  28065.01  28447.14  27524.6  27736.4  42385.41945   \n",
       "\n",
       "                     Close Time  Quote Asset Volume  Number of Trades  \\\n",
       "0 2023-05-29 23:59:59.999000064        1.182679e+09            805579   \n",
       "\n",
       "   TB Base Volume  TB Quote Volume Ignore  \n",
       "0     20199.85331     5.637221e+08      0  "
      ]
     },
     "execution_count": 10,
     "metadata": {},
     "output_type": "execute_result"
    }
   ],
   "source": [
    "numeric_columns=['open','high','low','close','volume','Quote Asset Volume','TB Base Volume','TB Quote Volume']\n",
    "hist_df[numeric_columns]=hist_df[numeric_columns].apply(pd.to_numeric,axis=1)\n",
    "hist_df.head()"
   ]
  },
  {
   "cell_type": "code",
   "execution_count": 11,
   "id": "41e31e9d",
   "metadata": {},
   "outputs": [],
   "source": [
    "hist_df.drop(['Close Time','Quote Asset Volume','TB Quote Volume','Ignore'],inplace=True,axis=1)"
   ]
  },
  {
   "cell_type": "code",
   "execution_count": 12,
   "id": "5326ed27",
   "metadata": {},
   "outputs": [
    {
     "data": {
      "text/html": [
       "<div>\n",
       "<style scoped>\n",
       "    .dataframe tbody tr th:only-of-type {\n",
       "        vertical-align: middle;\n",
       "    }\n",
       "\n",
       "    .dataframe tbody tr th {\n",
       "        vertical-align: top;\n",
       "    }\n",
       "\n",
       "    .dataframe thead th {\n",
       "        text-align: right;\n",
       "    }\n",
       "</style>\n",
       "<table border=\"1\" class=\"dataframe\">\n",
       "  <thead>\n",
       "    <tr style=\"text-align: right;\">\n",
       "      <th></th>\n",
       "      <th>date</th>\n",
       "      <th>open</th>\n",
       "      <th>high</th>\n",
       "      <th>low</th>\n",
       "      <th>close</th>\n",
       "      <th>volume</th>\n",
       "      <th>Number of Trades</th>\n",
       "      <th>TB Base Volume</th>\n",
       "    </tr>\n",
       "  </thead>\n",
       "  <tbody>\n",
       "    <tr>\n",
       "      <th>0</th>\n",
       "      <td>2023-05-29</td>\n",
       "      <td>28065.01</td>\n",
       "      <td>28447.14</td>\n",
       "      <td>27524.6</td>\n",
       "      <td>27736.4</td>\n",
       "      <td>42385.41945</td>\n",
       "      <td>805579</td>\n",
       "      <td>20199.85331</td>\n",
       "    </tr>\n",
       "  </tbody>\n",
       "</table>\n",
       "</div>"
      ],
      "text/plain": [
       "         date      open      high      low    close       volume  \\\n",
       "0  2023-05-29  28065.01  28447.14  27524.6  27736.4  42385.41945   \n",
       "\n",
       "   Number of Trades  TB Base Volume  \n",
       "0            805579     20199.85331  "
      ]
     },
     "execution_count": 12,
     "metadata": {},
     "output_type": "execute_result"
    }
   ],
   "source": [
    "hist_df"
   ]
  },
  {
   "cell_type": "code",
   "execution_count": 13,
   "id": "dc38f950",
   "metadata": {},
   "outputs": [],
   "source": [
    "features = [\n",
    "    'market-price',\n",
    "    'difficulty',\n",
    "    'total-bitcoins',\n",
    "    'blocks-size',\n",
    "    'market-cap']\n",
    "#    0   Unnamed: 0        1499 non-null   int64  \n",
    "#  1   date              1499 non-null   object \n",
    "#  2   market-price      1499 non-null   float64\n",
    "#  3   difficulty        1499 non-null   float64\n",
    "#  4   total-bitcoins    1499 non-null   float64\n",
    "#  5   blocks-size       1499 non-null   float64\n",
    "#  6   market-cap        1499 non-null   float64\n",
    "#  7   open              1499 non-null   float64\n",
    "#  8   high              1499 non-null   float64\n",
    "#  9   low               1499 non-null   float64\n",
    "#  10  close             1499 non-null   float64\n",
    "#  11  volume            1499 non-null   float64\n",
    "#  12  Number of Trades  1499 non-null   int64  \n",
    "#  13  TB Base Volume    1499 non-null   float64\n",
    "#  14  close_nextday"
   ]
  },
  {
   "cell_type": "code",
   "execution_count": 14,
   "id": "b0167346",
   "metadata": {},
   "outputs": [
    {
     "name": "stdout",
     "output_type": "stream",
     "text": [
      "market-price:\n",
      "         date  market-price\n",
      "0  2023-05-29       28082.7\n",
      "\n",
      "\n",
      "difficulty:\n",
      "         date    difficulty\n",
      "0  2023-05-29  4.954970e+13\n",
      "\n",
      "\n",
      "total-bitcoins:\n",
      "         date  total-bitcoins\n",
      "0  2023-05-29     19386631.25\n",
      "\n",
      "\n",
      "blocks-size:\n",
      "         date    blocks-size\n",
      "0  2023-05-29  484328.151344\n",
      "\n",
      "\n",
      "market-cap:\n",
      "         date    market-cap\n",
      "0  2023-05-29  5.474397e+11\n",
      "\n",
      "\n"
     ]
    }
   ],
   "source": [
    "import requests\n",
    "import warnings\n",
    "import pandas as pd\n",
    "import datetime\n",
    "\n",
    "# Ignore FutureWarning messages\n",
    "warnings.filterwarnings(\"ignore\", category=FutureWarning)\n",
    "\n",
    "url = 'https://api.blockchain.info/charts'\n",
    "params = {\n",
    "    'timespan': '1days',\n",
    "    'format': 'json'\n",
    "}\n",
    "\n",
    "# Define the data to retrieve\n",
    "data_types = [\n",
    "    'market-price',\n",
    "    'difficulty',\n",
    "    'total-bitcoins',\n",
    "    'blocks-size',\n",
    "    'market-cap']\n",
    "\n",
    "# Initialize a dictionary to store the dataframes\n",
    "dfs = {}\n",
    "\n",
    "# Loop over the data types and retrieve the data\n",
    "for data_type in data_types:\n",
    "    # Set the API endpoint for the current data type\n",
    "    current_url = f\"{url}/{data_type}\"\n",
    "    \n",
    "    # Make the API request\n",
    "    response = requests.get(current_url, params=params)\n",
    "    \n",
    "    # Extract the data from the response\n",
    "    data = response.json()['values']\n",
    "    \n",
    "    # Get the most recent entry from yesterday\n",
    "    yesterday = datetime.datetime.now().date() - datetime.timedelta(days=1)\n",
    "    recent_entry = next((entry for entry in data if datetime.datetime.fromtimestamp(entry['x']).date() == yesterday), None)\n",
    "    \n",
    "    # Create a dataframe for the current data type\n",
    "    df = pd.DataFrame(columns=['date', data_type])\n",
    "    \n",
    "    # Add the most recent entry to the dataframe\n",
    "    if recent_entry:\n",
    "        df = df.append({'date': datetime.datetime.fromtimestamp(recent_entry['x']).date(), data_type: recent_entry['y']}, ignore_index=True)\n",
    "    \n",
    "    # Store the DataFrame in the dictionary\n",
    "    dfs[data_type] = df\n",
    "\n",
    "# Print the DataFrames\n",
    "for data_type, df in dfs.items():\n",
    "    print(f\"{data_type}:\")\n",
    "    print(df)\n",
    "    print(\"\\n\")"
   ]
  },
  {
   "cell_type": "code",
   "execution_count": 15,
   "id": "e4de553d",
   "metadata": {},
   "outputs": [
    {
     "data": {
      "text/html": [
       "<div>\n",
       "<style scoped>\n",
       "    .dataframe tbody tr th:only-of-type {\n",
       "        vertical-align: middle;\n",
       "    }\n",
       "\n",
       "    .dataframe tbody tr th {\n",
       "        vertical-align: top;\n",
       "    }\n",
       "\n",
       "    .dataframe thead th {\n",
       "        text-align: right;\n",
       "    }\n",
       "</style>\n",
       "<table border=\"1\" class=\"dataframe\">\n",
       "  <thead>\n",
       "    <tr style=\"text-align: right;\">\n",
       "      <th></th>\n",
       "      <th>date</th>\n",
       "      <th>market-cap</th>\n",
       "    </tr>\n",
       "  </thead>\n",
       "  <tbody>\n",
       "    <tr>\n",
       "      <th>0</th>\n",
       "      <td>2023-05-29</td>\n",
       "      <td>5.474397e+11</td>\n",
       "    </tr>\n",
       "  </tbody>\n",
       "</table>\n",
       "</div>"
      ],
      "text/plain": [
       "         date    market-cap\n",
       "0  2023-05-29  5.474397e+11"
      ]
     },
     "execution_count": 15,
     "metadata": {},
     "output_type": "execute_result"
    }
   ],
   "source": [
    "#list of dataframes; each with the blockchain data\n",
    "frames=[]\n",
    "for key in dfs.keys():\n",
    "    name=key.replace('-','')\n",
    "    name=dfs[key]\n",
    "    frames.append(name)\n",
    "frames[4]"
   ]
  },
  {
   "cell_type": "code",
   "execution_count": 16,
   "id": "858666e6",
   "metadata": {},
   "outputs": [
    {
     "data": {
      "text/plain": [
       "dict_keys(['market-price', 'difficulty', 'total-bitcoins', 'blocks-size', 'market-cap'])"
      ]
     },
     "execution_count": 16,
     "metadata": {},
     "output_type": "execute_result"
    }
   ],
   "source": [
    "dfs.keys()"
   ]
  },
  {
   "cell_type": "code",
   "execution_count": 17,
   "id": "735f54c8",
   "metadata": {},
   "outputs": [
    {
     "name": "stdout",
     "output_type": "stream",
     "text": [
      "         date  market-price    difficulty\n",
      "0  2023-05-29       28082.7  4.954970e+13\n",
      "         date  market-price    difficulty  total-bitcoins\n",
      "0  2023-05-29       28082.7  4.954970e+13     19386631.25\n",
      "         date  market-price    difficulty  total-bitcoins    blocks-size\n",
      "0  2023-05-29       28082.7  4.954970e+13     19386631.25  484328.151344\n",
      "         date  market-price    difficulty  total-bitcoins    blocks-size  \\\n",
      "0  2023-05-29       28082.7  4.954970e+13     19386631.25  484328.151344   \n",
      "\n",
      "     market-cap  \n",
      "0  5.474397e+11  \n"
     ]
    }
   ],
   "source": [
    "#MERGE ALL RESULTING DATAFRAMES \n",
    "merged_df=frames[0].merge(frames[1],on='date')\n",
    "print(merged_df)\n",
    "for i in range(1,len(frames)-1):\n",
    "    merged_df=merged_df.merge(frames[i+1],on='date')\n",
    "    print(merged_df)"
   ]
  },
  {
   "cell_type": "code",
   "execution_count": 18,
   "id": "021c77f3",
   "metadata": {},
   "outputs": [
    {
     "data": {
      "text/html": [
       "<div>\n",
       "<style scoped>\n",
       "    .dataframe tbody tr th:only-of-type {\n",
       "        vertical-align: middle;\n",
       "    }\n",
       "\n",
       "    .dataframe tbody tr th {\n",
       "        vertical-align: top;\n",
       "    }\n",
       "\n",
       "    .dataframe thead th {\n",
       "        text-align: right;\n",
       "    }\n",
       "</style>\n",
       "<table border=\"1\" class=\"dataframe\">\n",
       "  <thead>\n",
       "    <tr style=\"text-align: right;\">\n",
       "      <th></th>\n",
       "      <th>market-price</th>\n",
       "      <th>difficulty</th>\n",
       "      <th>total-bitcoins</th>\n",
       "      <th>blocks-size</th>\n",
       "      <th>market-cap</th>\n",
       "    </tr>\n",
       "    <tr>\n",
       "      <th>date</th>\n",
       "      <th></th>\n",
       "      <th></th>\n",
       "      <th></th>\n",
       "      <th></th>\n",
       "      <th></th>\n",
       "    </tr>\n",
       "  </thead>\n",
       "  <tbody>\n",
       "    <tr>\n",
       "      <th>2023-05-29</th>\n",
       "      <td>28082.7</td>\n",
       "      <td>4.954970e+13</td>\n",
       "      <td>19386631.25</td>\n",
       "      <td>484328.151344</td>\n",
       "      <td>5.474397e+11</td>\n",
       "    </tr>\n",
       "  </tbody>\n",
       "</table>\n",
       "</div>"
      ],
      "text/plain": [
       "            market-price    difficulty  total-bitcoins    blocks-size  \\\n",
       "date                                                                    \n",
       "2023-05-29       28082.7  4.954970e+13     19386631.25  484328.151344   \n",
       "\n",
       "              market-cap  \n",
       "date                      \n",
       "2023-05-29  5.474397e+11  "
      ]
     },
     "execution_count": 18,
     "metadata": {},
     "output_type": "execute_result"
    }
   ],
   "source": [
    "merged_df.set_index('date')"
   ]
  },
  {
   "cell_type": "code",
   "execution_count": 19,
   "id": "d9ae600a",
   "metadata": {},
   "outputs": [],
   "source": [
    "whole_df=merged_df.merge(hist_df,on='date')"
   ]
  },
  {
   "cell_type": "code",
   "execution_count": 20,
   "id": "0b0517c4",
   "metadata": {},
   "outputs": [
    {
     "data": {
      "text/html": [
       "<div>\n",
       "<style scoped>\n",
       "    .dataframe tbody tr th:only-of-type {\n",
       "        vertical-align: middle;\n",
       "    }\n",
       "\n",
       "    .dataframe tbody tr th {\n",
       "        vertical-align: top;\n",
       "    }\n",
       "\n",
       "    .dataframe thead th {\n",
       "        text-align: right;\n",
       "    }\n",
       "</style>\n",
       "<table border=\"1\" class=\"dataframe\">\n",
       "  <thead>\n",
       "    <tr style=\"text-align: right;\">\n",
       "      <th></th>\n",
       "      <th>date</th>\n",
       "      <th>market-price</th>\n",
       "      <th>difficulty</th>\n",
       "      <th>total-bitcoins</th>\n",
       "      <th>blocks-size</th>\n",
       "      <th>market-cap</th>\n",
       "      <th>open</th>\n",
       "      <th>high</th>\n",
       "      <th>low</th>\n",
       "      <th>close</th>\n",
       "      <th>volume</th>\n",
       "      <th>Number of Trades</th>\n",
       "      <th>TB Base Volume</th>\n",
       "    </tr>\n",
       "  </thead>\n",
       "  <tbody>\n",
       "    <tr>\n",
       "      <th>0</th>\n",
       "      <td>2023-05-29</td>\n",
       "      <td>28082.7</td>\n",
       "      <td>4.954970e+13</td>\n",
       "      <td>19386631.25</td>\n",
       "      <td>484328.151344</td>\n",
       "      <td>5.474397e+11</td>\n",
       "      <td>28065.01</td>\n",
       "      <td>28447.14</td>\n",
       "      <td>27524.6</td>\n",
       "      <td>27736.4</td>\n",
       "      <td>42385.41945</td>\n",
       "      <td>805579</td>\n",
       "      <td>20199.85331</td>\n",
       "    </tr>\n",
       "  </tbody>\n",
       "</table>\n",
       "</div>"
      ],
      "text/plain": [
       "         date  market-price    difficulty  total-bitcoins    blocks-size  \\\n",
       "0  2023-05-29       28082.7  4.954970e+13     19386631.25  484328.151344   \n",
       "\n",
       "     market-cap      open      high      low    close       volume  \\\n",
       "0  5.474397e+11  28065.01  28447.14  27524.6  27736.4  42385.41945   \n",
       "\n",
       "   Number of Trades  TB Base Volume  \n",
       "0            805579     20199.85331  "
      ]
     },
     "execution_count": 20,
     "metadata": {},
     "output_type": "execute_result"
    }
   ],
   "source": [
    "whole_df"
   ]
  },
  {
   "cell_type": "code",
   "execution_count": 21,
   "id": "37dc428c",
   "metadata": {},
   "outputs": [],
   "source": [
    "whole_df.set_index('date',inplace=True)"
   ]
  },
  {
   "cell_type": "code",
   "execution_count": 22,
   "id": "68ce54ff",
   "metadata": {},
   "outputs": [
    {
     "data": {
      "text/html": [
       "<div>\n",
       "<style scoped>\n",
       "    .dataframe tbody tr th:only-of-type {\n",
       "        vertical-align: middle;\n",
       "    }\n",
       "\n",
       "    .dataframe tbody tr th {\n",
       "        vertical-align: top;\n",
       "    }\n",
       "\n",
       "    .dataframe thead th {\n",
       "        text-align: right;\n",
       "    }\n",
       "</style>\n",
       "<table border=\"1\" class=\"dataframe\">\n",
       "  <thead>\n",
       "    <tr style=\"text-align: right;\">\n",
       "      <th></th>\n",
       "      <th>market-price</th>\n",
       "      <th>difficulty</th>\n",
       "      <th>total-bitcoins</th>\n",
       "      <th>blocks-size</th>\n",
       "      <th>market-cap</th>\n",
       "      <th>open</th>\n",
       "      <th>high</th>\n",
       "      <th>low</th>\n",
       "      <th>close</th>\n",
       "      <th>volume</th>\n",
       "      <th>Number of Trades</th>\n",
       "      <th>TB Base Volume</th>\n",
       "    </tr>\n",
       "    <tr>\n",
       "      <th>date</th>\n",
       "      <th></th>\n",
       "      <th></th>\n",
       "      <th></th>\n",
       "      <th></th>\n",
       "      <th></th>\n",
       "      <th></th>\n",
       "      <th></th>\n",
       "      <th></th>\n",
       "      <th></th>\n",
       "      <th></th>\n",
       "      <th></th>\n",
       "      <th></th>\n",
       "    </tr>\n",
       "  </thead>\n",
       "  <tbody>\n",
       "    <tr>\n",
       "      <th>2023-05-29</th>\n",
       "      <td>28082.7</td>\n",
       "      <td>4.954970e+13</td>\n",
       "      <td>19386631.25</td>\n",
       "      <td>484328.151344</td>\n",
       "      <td>5.474397e+11</td>\n",
       "      <td>28065.01</td>\n",
       "      <td>28447.14</td>\n",
       "      <td>27524.6</td>\n",
       "      <td>27736.4</td>\n",
       "      <td>42385.41945</td>\n",
       "      <td>805579</td>\n",
       "      <td>20199.85331</td>\n",
       "    </tr>\n",
       "  </tbody>\n",
       "</table>\n",
       "</div>"
      ],
      "text/plain": [
       "            market-price    difficulty  total-bitcoins    blocks-size  \\\n",
       "date                                                                    \n",
       "2023-05-29       28082.7  4.954970e+13     19386631.25  484328.151344   \n",
       "\n",
       "              market-cap      open      high      low    close       volume  \\\n",
       "date                                                                          \n",
       "2023-05-29  5.474397e+11  28065.01  28447.14  27524.6  27736.4  42385.41945   \n",
       "\n",
       "            Number of Trades  TB Base Volume  \n",
       "date                                          \n",
       "2023-05-29            805579     20199.85331  "
      ]
     },
     "execution_count": 22,
     "metadata": {},
     "output_type": "execute_result"
    }
   ],
   "source": [
    "whole_df"
   ]
  },
  {
   "cell_type": "code",
   "execution_count": 50,
   "id": "9a382981",
   "metadata": {},
   "outputs": [
    {
     "data": {
      "text/html": [
       "<div>\n",
       "<style scoped>\n",
       "    .dataframe tbody tr th:only-of-type {\n",
       "        vertical-align: middle;\n",
       "    }\n",
       "\n",
       "    .dataframe tbody tr th {\n",
       "        vertical-align: top;\n",
       "    }\n",
       "\n",
       "    .dataframe thead th {\n",
       "        text-align: right;\n",
       "    }\n",
       "</style>\n",
       "<table border=\"1\" class=\"dataframe\">\n",
       "  <thead>\n",
       "    <tr style=\"text-align: right;\">\n",
       "      <th></th>\n",
       "      <th>market-price</th>\n",
       "      <th>difficulty</th>\n",
       "      <th>total-bitcoins</th>\n",
       "      <th>blocks-size</th>\n",
       "      <th>market-cap</th>\n",
       "      <th>open</th>\n",
       "      <th>high</th>\n",
       "      <th>low</th>\n",
       "      <th>close</th>\n",
       "      <th>volume</th>\n",
       "      <th>Number of Trades</th>\n",
       "      <th>TB Base Volume</th>\n",
       "      <th>close_nextday</th>\n",
       "    </tr>\n",
       "    <tr>\n",
       "      <th>date</th>\n",
       "      <th></th>\n",
       "      <th></th>\n",
       "      <th></th>\n",
       "      <th></th>\n",
       "      <th></th>\n",
       "      <th></th>\n",
       "      <th></th>\n",
       "      <th></th>\n",
       "      <th></th>\n",
       "      <th></th>\n",
       "      <th></th>\n",
       "      <th></th>\n",
       "      <th></th>\n",
       "    </tr>\n",
       "  </thead>\n",
       "  <tbody>\n",
       "    <tr>\n",
       "      <th>2023-05-29</th>\n",
       "      <td>28082.7</td>\n",
       "      <td>4.954970e+13</td>\n",
       "      <td>19386631.25</td>\n",
       "      <td>484328.151344</td>\n",
       "      <td>5.474397e+11</td>\n",
       "      <td>28065.01</td>\n",
       "      <td>28447.14</td>\n",
       "      <td>27524.6</td>\n",
       "      <td>27736.4</td>\n",
       "      <td>42385.41945</td>\n",
       "      <td>805579</td>\n",
       "      <td>20199.85331</td>\n",
       "      <td>0</td>\n",
       "    </tr>\n",
       "  </tbody>\n",
       "</table>\n",
       "</div>"
      ],
      "text/plain": [
       "            market-price    difficulty  total-bitcoins    blocks-size  \\\n",
       "date                                                                    \n",
       "2023-05-29       28082.7  4.954970e+13     19386631.25  484328.151344   \n",
       "\n",
       "              market-cap      open      high      low    close       volume  \\\n",
       "date                                                                          \n",
       "2023-05-29  5.474397e+11  28065.01  28447.14  27524.6  27736.4  42385.41945   \n",
       "\n",
       "            Number of Trades  TB Base Volume  close_nextday  \n",
       "date                                                         \n",
       "2023-05-29            805579     20199.85331              0  "
      ]
     },
     "execution_count": 50,
     "metadata": {},
     "output_type": "execute_result"
    }
   ],
   "source": [
    "whole_df['close_nextday']=0\n",
    "whole_df"
   ]
  },
  {
   "cell_type": "code",
   "execution_count": 51,
   "id": "f0eeee68",
   "metadata": {},
   "outputs": [],
   "source": [
    "import pickle\n",
    "with open('BTCscaler.pkl','rb') as file:\n",
    "    scaler=pickle.load(file)"
   ]
  },
  {
   "cell_type": "code",
   "execution_count": 52,
   "id": "1d5a189a",
   "metadata": {},
   "outputs": [
    {
     "data": {
      "text/plain": [
       "array([[ 0.38619988,  1.        ,  1.00375509,  1.00827965,  0.40446037,\n",
       "         0.38630757,  0.38297778,  0.3863934 ,  0.38478573,  0.04756104,\n",
       "         0.04903953,  0.04535775, -0.05039104]])"
      ]
     },
     "execution_count": 52,
     "metadata": {},
     "output_type": "execute_result"
    }
   ],
   "source": [
    "btc_scaled = scaler.transform(whole_df)\n",
    "btc_scaled"
   ]
  },
  {
   "cell_type": "code",
   "execution_count": 54,
   "id": "49b8873b",
   "metadata": {},
   "outputs": [],
   "source": [
    "X_test=btc_scaled[:,:12]"
   ]
  },
  {
   "cell_type": "code",
   "execution_count": 55,
   "id": "a76d8544",
   "metadata": {},
   "outputs": [],
   "source": [
    "import h5py\n",
    "from tensorflow.keras.models import load_model\n",
    "from keras import backend as K\n",
    "\n",
    "def root_mean_squared_error(y_true, y_pred):\n",
    "        return K.sqrt(K.mean(K.square(y_pred - y_true)))\n",
    "# Load the saved model\n",
    "model = load_model('my_bitcoinLSTM_model.h5',custom_objects={'root_mean_squared_error': root_mean_squared_error})"
   ]
  },
  {
   "cell_type": "code",
   "execution_count": 56,
   "id": "c839b4a6",
   "metadata": {},
   "outputs": [
    {
     "data": {
      "text/plain": [
       "array([[0.38619988, 1.        , 1.00375509, 1.00827965, 0.40446037,\n",
       "        0.38630757, 0.38297778, 0.3863934 , 0.38478573, 0.04756104,\n",
       "        0.04903953, 0.04535775]])"
      ]
     },
     "execution_count": 56,
     "metadata": {},
     "output_type": "execute_result"
    }
   ],
   "source": [
    "X_test"
   ]
  },
  {
   "cell_type": "code",
   "execution_count": 57,
   "id": "9fefa070",
   "metadata": {},
   "outputs": [
    {
     "data": {
      "text/plain": [
       "array([[0.38619988, 1.        , 1.00375509, 1.00827965, 0.40446037,\n",
       "        0.38630757, 0.38297778, 0.3863934 , 0.38478573, 0.04756104,\n",
       "        0.04903953, 0.04535775]])"
      ]
     },
     "execution_count": 57,
     "metadata": {},
     "output_type": "execute_result"
    }
   ],
   "source": [
    "X_test"
   ]
  },
  {
   "cell_type": "code",
   "execution_count": 58,
   "id": "4d58361e",
   "metadata": {},
   "outputs": [
    {
     "data": {
      "text/plain": [
       "(1, 12)"
      ]
     },
     "execution_count": 58,
     "metadata": {},
     "output_type": "execute_result"
    }
   ],
   "source": [
    "X_test.shape"
   ]
  },
  {
   "cell_type": "code",
   "execution_count": 59,
   "id": "018d05cb",
   "metadata": {},
   "outputs": [
    {
     "name": "stdout",
     "output_type": "stream",
     "text": [
      "66947.66\n",
      "3211.72\n"
     ]
    }
   ],
   "source": [
    "import pickle \n",
    "with open('bitcoin_closemax.pkl','rb') as file:\n",
    "    closeMax=pickle.load(file)\n",
    "    print(closeMax)\n",
    "with open('bitcoin_closemin.pkl','rb') as file:\n",
    "    closeMin=pickle.load(file)\n",
    "    print(closeMin)"
   ]
  },
  {
   "cell_type": "code",
   "execution_count": 60,
   "id": "7ceff764",
   "metadata": {},
   "outputs": [],
   "source": [
    "import tensorflow as tf\n",
    "X_test=tf.expand_dims(X_test,axis=1)"
   ]
  },
  {
   "cell_type": "code",
   "execution_count": 61,
   "id": "bfab8bf4",
   "metadata": {},
   "outputs": [
    {
     "data": {
      "text/plain": [
       "<tf.Tensor: shape=(1, 1, 12), dtype=float64, numpy=\n",
       "array([[[0.38619988, 1.        , 1.00375509, 1.00827965, 0.40446037,\n",
       "         0.38630757, 0.38297778, 0.3863934 , 0.38478573, 0.04756104,\n",
       "         0.04903953, 0.04535775]]])>"
      ]
     },
     "execution_count": 61,
     "metadata": {},
     "output_type": "execute_result"
    }
   ],
   "source": [
    "X_test"
   ]
  },
  {
   "cell_type": "code",
   "execution_count": 62,
   "id": "d7979cdb",
   "metadata": {},
   "outputs": [
    {
     "data": {
      "text/plain": [
       "TensorShape([1, 1, 12])"
      ]
     },
     "execution_count": 62,
     "metadata": {},
     "output_type": "execute_result"
    }
   ],
   "source": [
    "X_test.shape"
   ]
  },
  {
   "cell_type": "code",
   "execution_count": 63,
   "id": "1301d59f",
   "metadata": {},
   "outputs": [
    {
     "name": "stdout",
     "output_type": "stream",
     "text": [
      "1/1 [==============================] - 1s 1s/step\n"
     ]
    }
   ],
   "source": [
    "close_nextday = model.predict(X_test)"
   ]
  },
  {
   "cell_type": "code",
   "execution_count": 64,
   "id": "d51491e9",
   "metadata": {},
   "outputs": [
    {
     "data": {
      "text/plain": [
       "array([[0.38234255]], dtype=float32)"
      ]
     },
     "execution_count": 64,
     "metadata": {},
     "output_type": "execute_result"
    }
   ],
   "source": [
    "close_nextday"
   ]
  },
  {
   "cell_type": "code",
   "execution_count": 65,
   "id": "5a9ceda5",
   "metadata": {},
   "outputs": [
    {
     "data": {
      "text/plain": [
       "0.38234255"
      ]
     },
     "execution_count": 65,
     "metadata": {},
     "output_type": "execute_result"
    }
   ],
   "source": [
    "close_nextday[-1][0]"
   ]
  },
  {
   "cell_type": "code",
   "execution_count": 66,
   "id": "25bc1fd0",
   "metadata": {},
   "outputs": [
    {
     "data": {
      "text/plain": [
       "27580.681646401288"
      ]
     },
     "execution_count": 66,
     "metadata": {},
     "output_type": "execute_result"
    }
   ],
   "source": [
    "denormalized_value =  abs((close_nextday[-1][0] * (closeMax - closeMin)+ closeMin))\n",
    "denormalized_value"
   ]
  },
  {
   "cell_type": "code",
   "execution_count": null,
   "id": "b7f6bd04",
   "metadata": {},
   "outputs": [],
   "source": []
  },
  {
   "cell_type": "code",
   "execution_count": null,
   "id": "a5111a5b",
   "metadata": {},
   "outputs": [],
   "source": []
  },
  {
   "cell_type": "code",
   "execution_count": null,
   "id": "9b10fa71",
   "metadata": {},
   "outputs": [],
   "source": []
  },
  {
   "cell_type": "code",
   "execution_count": 38,
   "id": "23d81194",
   "metadata": {},
   "outputs": [],
   "source": [
    "import subprocess"
   ]
  },
  {
   "cell_type": "code",
   "execution_count": 39,
   "id": "eb798183",
   "metadata": {},
   "outputs": [],
   "source": [
    "profitable_coin=\"bitcoin\""
   ]
  },
  {
   "cell_type": "code",
   "execution_count": 40,
   "id": "9baf7716",
   "metadata": {},
   "outputs": [],
   "source": [
    "# cmd_bitcoin = \"vsim -c -do bscript.do\"\n",
    "# #cmd_litecoin = \"vsim -c -do coin2.tcl\""
   ]
  },
  {
   "cell_type": "code",
   "execution_count": 41,
   "id": "6991bdcf",
   "metadata": {},
   "outputs": [],
   "source": [
    "# if profitable_coin == 'bitcoin':\n",
    "#     subprocess.run(cmd_bitcoin, shell=True)\n",
    "# elif profitable_coin == 'coin2':\n",
    "#     subprocess.run(cmd_coin2, shell=True)"
   ]
  },
  {
   "cell_type": "markdown",
   "id": "208b83ba",
   "metadata": {},
   "source": [
    "###  selects device (index) + programs device (check mode)"
   ]
  },
  {
   "cell_type": "code",
   "execution_count": 42,
   "id": "cddabe21",
   "metadata": {},
   "outputs": [],
   "source": [
    "def program_device(sof_file,device_index):\n",
    "    sof_file = \"fpgaminer_top.sof\"\n",
    "    device_index = \"1\"\n",
    "\n",
    "    # Create the command to program the device\n",
    "    command = ['quartus_pgm', '-m', 'jtag', '-o', f'p;{sof_file}@{device_index}']\n",
    "\n",
    "    # Run the command\n",
    "    subprocess.run(command)\n"
   ]
  },
  {
   "cell_type": "markdown",
   "id": "f754364e",
   "metadata": {},
   "source": [
    "### navigate to .sof directory "
   ]
  },
  {
   "cell_type": "code",
   "execution_count": 43,
   "id": "60f99ccd",
   "metadata": {},
   "outputs": [],
   "source": [
    "import os\n",
    "\n",
    "def change_directory(directory):\n",
    "    os.chdir(directory)\n",
    "\n",
    "# Call the function to change the directory\n",
    "#change_directory(r\"C:\\intelFPGA_lite\\16.1\\latestBminer\\output_files\")"
   ]
  },
  {
   "cell_type": "code",
   "execution_count": 44,
   "id": "4a8bc873",
   "metadata": {},
   "outputs": [],
   "source": [
    "def run_quartus_script(script):\n",
    "    # Run the Quartus script using the Quartus command\n",
    "    subprocess.run(['quartus_sh', '-t', script+'.tcl'])\n",
    "\n",
    "# Call the function to run the Quartus script\n",
    "#run_quartus_script()"
   ]
  },
  {
   "cell_type": "code",
   "execution_count": 45,
   "id": "5882a330",
   "metadata": {},
   "outputs": [],
   "source": [
    "if profitable_coin=='bitcoin':\n",
    "    change_directory(r\"C:\\intelFPGA_lite\\16.1\\latestBminer\\output_files\")\n",
    "    program_device(\"fpgamminer_top.sof\",\"1\")"
   ]
  },
  {
   "cell_type": "code",
   "execution_count": 46,
   "id": "1afdf046",
   "metadata": {},
   "outputs": [],
   "source": [
    "# def check_programming_status():\n",
    "#     # Run the quartus_pgm command with the appropriate options\n",
    "#     cmd = ['quartus_pgm', '-m', 'jtag', '-l']\n",
    "#     result = subprocess.run(cmd, capture_output=True, text=True)\n",
    "\n",
    "#     # Check the output to determine the programming status\n",
    "#     output = result.stdout.strip()\n",
    "#     if 'Programmed' in output:\n",
    "#         print(\"Device is already programmed.\")\n",
    "#     else:\n",
    "#         print(\"Device is not programmed.\")\n",
    "\n",
    "# # Call the function to check the programming status\n",
    "# check_programming_status()"
   ]
  }
 ],
 "metadata": {
  "kernelspec": {
   "display_name": "Python 3 (ipykernel)",
   "language": "python",
   "name": "python3"
  },
  "language_info": {
   "codemirror_mode": {
    "name": "ipython",
    "version": 3
   },
   "file_extension": ".py",
   "mimetype": "text/x-python",
   "name": "python",
   "nbconvert_exporter": "python",
   "pygments_lexer": "ipython3",
   "version": "3.10.3"
  }
 },
 "nbformat": 4,
 "nbformat_minor": 5
}
